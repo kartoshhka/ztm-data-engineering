{
 "cells": [
  {
   "cell_type": "code",
   "execution_count": 1,
   "id": "b0b2bff5-028c-4a92-ba00-b2ffb60ee190",
   "metadata": {},
   "outputs": [],
   "source": [
    "from pyspark.sql import SparkSession\n",
    "\n",
    "spark = SparkSession \\\n",
    "  .builder \\\n",
    "  .appName(\"Loan Prediction Classification\") \\\n",
    "  .getOrCreate()"
   ]
  },
  {
   "cell_type": "code",
   "execution_count": 2,
   "id": "bf34339e-c15f-40b5-a93f-3a2c1df62358",
   "metadata": {},
   "outputs": [
    {
     "name": "stdout",
     "output_type": "stream",
     "text": [
      "root\n",
      " |-- Loan_ID: string (nullable = true)\n",
      " |-- Gender: string (nullable = true)\n",
      " |-- Married: string (nullable = true)\n",
      " |-- Dependents: string (nullable = true)\n",
      " |-- Education: string (nullable = true)\n",
      " |-- Self_Employed: string (nullable = true)\n",
      " |-- ApplicantIncome: integer (nullable = true)\n",
      " |-- CoapplicantIncome: double (nullable = true)\n",
      " |-- LoanAmount: integer (nullable = true)\n",
      " |-- Loan_Amount_Term: integer (nullable = true)\n",
      " |-- Credit_History: integer (nullable = true)\n",
      " |-- Property_Area: string (nullable = true)\n",
      " |-- Loan_Status: string (nullable = true)\n",
      "\n"
     ]
    }
   ],
   "source": [
    "data = spark.read.csv(\"data/loan-prediction-train.csv\", header=True, inferSchema=True)\n",
    "\n",
    "data.printSchema()"
   ]
  },
  {
   "cell_type": "code",
   "execution_count": 3,
   "id": "15dbc9c8-795a-43df-9da4-5a23d37ad5df",
   "metadata": {},
   "outputs": [
    {
     "data": {
      "text/plain": [
       "614"
      ]
     },
     "execution_count": 3,
     "metadata": {},
     "output_type": "execute_result"
    }
   ],
   "source": [
    "data.count()"
   ]
  },
  {
   "cell_type": "code",
   "execution_count": 4,
   "id": "e88d465f-a758-4469-9aae-2b6bf2cea067",
   "metadata": {},
   "outputs": [
    {
     "name": "stdout",
     "output_type": "stream",
     "text": [
      "+--------+------+-------+----------+------------+-------------+---------------+-----------------+----------+----------------+--------------+-------------+-----------+\n",
      "| Loan_ID|Gender|Married|Dependents|   Education|Self_Employed|ApplicantIncome|CoapplicantIncome|LoanAmount|Loan_Amount_Term|Credit_History|Property_Area|Loan_Status|\n",
      "+--------+------+-------+----------+------------+-------------+---------------+-----------------+----------+----------------+--------------+-------------+-----------+\n",
      "|LP001002|  Male|     No|         0|    Graduate|           No|           5849|              0.0|      NULL|             360|             1|        Urban|          Y|\n",
      "|LP001003|  Male|    Yes|         1|    Graduate|           No|           4583|           1508.0|       128|             360|             1|        Rural|          N|\n",
      "|LP001005|  Male|    Yes|         0|    Graduate|          Yes|           3000|              0.0|        66|             360|             1|        Urban|          Y|\n",
      "|LP001006|  Male|    Yes|         0|Not Graduate|           No|           2583|           2358.0|       120|             360|             1|        Urban|          Y|\n",
      "|LP001008|  Male|     No|         0|    Graduate|           No|           6000|              0.0|       141|             360|             1|        Urban|          Y|\n",
      "|LP001011|  Male|    Yes|         2|    Graduate|          Yes|           5417|           4196.0|       267|             360|             1|        Urban|          Y|\n",
      "|LP001013|  Male|    Yes|         0|Not Graduate|           No|           2333|           1516.0|        95|             360|             1|        Urban|          Y|\n",
      "|LP001014|  Male|    Yes|        3+|    Graduate|           No|           3036|           2504.0|       158|             360|             0|    Semiurban|          N|\n",
      "|LP001018|  Male|    Yes|         2|    Graduate|           No|           4006|           1526.0|       168|             360|             1|        Urban|          Y|\n",
      "|LP001020|  Male|    Yes|         1|    Graduate|           No|          12841|          10968.0|       349|             360|             1|    Semiurban|          N|\n",
      "+--------+------+-------+----------+------------+-------------+---------------+-----------------+----------+----------------+--------------+-------------+-----------+\n",
      "only showing top 10 rows\n"
     ]
    }
   ],
   "source": [
    "data.show(10)"
   ]
  },
  {
   "cell_type": "code",
   "execution_count": 6,
   "id": "c3557af8-3063-46be-89e4-8540cf1c9a81",
   "metadata": {},
   "outputs": [
    {
     "name": "stdout",
     "output_type": "stream",
     "text": [
      "+-------+------+-------+----------+---------+-------------+---------------+-----------------+----------+----------------+--------------+-------------+-----------+\n",
      "|Loan_ID|Gender|Married|Dependents|Education|Self_Employed|ApplicantIncome|CoapplicantIncome|LoanAmount|Loan_Amount_Term|Credit_History|Property_Area|Loan_Status|\n",
      "+-------+------+-------+----------+---------+-------------+---------------+-----------------+----------+----------------+--------------+-------------+-----------+\n",
      "|      0|    13|      3|        15|        0|           32|              0|                0|        22|              14|            50|            0|          0|\n",
      "+-------+------+-------+----------+---------+-------------+---------------+-----------------+----------+----------------+--------------+-------------+-----------+\n",
      "\n"
     ]
    }
   ],
   "source": [
    "import pyspark.sql.functions as F\n",
    "\n",
    "data \\\n",
    "    .select([F.count(F.when(F.col(c).isNull(), 1)).alias(c) for c in data.columns]) \\\n",
    "    .show()"
   ]
  },
  {
   "cell_type": "code",
   "execution_count": 13,
   "id": "6863a094-fa5b-4734-bd15-0c8d884e5153",
   "metadata": {},
   "outputs": [],
   "source": [
    "filtered_data = data.na.drop(subset=['Gender', 'Married', 'Dependents', 'Self_Employed', 'LoanAmount', 'Loan_Amount_Term', 'Credit_History'])"
   ]
  },
  {
   "cell_type": "code",
   "execution_count": 14,
   "id": "6797411a-8722-4127-a588-7b4fb301ecb3",
   "metadata": {},
   "outputs": [
    {
     "name": "stdout",
     "output_type": "stream",
     "text": [
      "Train size:  398\n",
      "Test size:  82\n"
     ]
    }
   ],
   "source": [
    "train_data, test_data = filtered_data.randomSplit([0.8, 0.2], seed=24)\n",
    "print(\"Train size: \", train_data.count())\n",
    "print(\"Test size: \", test_data.count())"
   ]
  },
  {
   "cell_type": "code",
   "execution_count": 30,
   "id": "3b5d11d0-45cf-4510-bf8e-88b3e4930121",
   "metadata": {},
   "outputs": [],
   "source": [
    "pipeline_stages = []"
   ]
  },
  {
   "cell_type": "code",
   "execution_count": 31,
   "id": "42c48e35-027b-4a70-8b92-30b2ee58a034",
   "metadata": {},
   "outputs": [
    {
     "name": "stdout",
     "output_type": "stream",
     "text": [
      "StringIndexer Gender -> Gender_index\n",
      "OneHotEncoder Gender_index -> Gender_vec\n",
      "\n",
      "StringIndexer Married -> Married_index\n",
      "OneHotEncoder Married_index -> Married_vec\n",
      "\n",
      "StringIndexer Dependents -> Dependents_index\n",
      "OneHotEncoder Dependents_index -> Dependents_vec\n",
      "\n",
      "StringIndexer Education -> Education_index\n",
      "OneHotEncoder Education_index -> Education_vec\n",
      "\n",
      "StringIndexer Self_Employed -> Self_Employed_index\n",
      "OneHotEncoder Self_Employed_index -> Self_Employed_vec\n",
      "\n",
      "StringIndexer Property_Area -> Property_Area_index\n",
      "OneHotEncoder Property_Area_index -> Property_Area_vec\n",
      "\n"
     ]
    }
   ],
   "source": [
    "from pyspark.ml.feature import StringIndexer, OneHotEncoder \n",
    "\n",
    "categorical_cols = ['Gender', 'Married', 'Dependents', 'Education', 'Self_Employed', 'Property_Area']\n",
    "\n",
    "for col in categorical_cols:\n",
    "    string_indexer = StringIndexer(inputCol=col, outputCol= col + '_index')\n",
    "    print(f'StringIndexer {string_indexer.getInputCol()} -> {string_indexer.getOutputCol()}')\n",
    "    \n",
    "    encoder = OneHotEncoder(inputCol=string_indexer.getOutputCol(), outputCol=col + '_vec', dropLast=False)\n",
    "    print(f'OneHotEncoder {encoder.getInputCol()} -> {encoder.getOutputCol()}')\n",
    "    print()\n",
    "    \n",
    "    pipeline_stages += [string_indexer, encoder]"
   ]
  },
  {
   "cell_type": "code",
   "execution_count": 32,
   "id": "7678032b-ca9a-4efd-b71b-e81d60805a5d",
   "metadata": {},
   "outputs": [],
   "source": [
    "pipeline_stages += [StringIndexer(inputCol='Loan_Status', outputCol= 'Loan_Status_index')]"
   ]
  },
  {
   "cell_type": "code",
   "execution_count": 33,
   "id": "5b05f128-b87c-44c2-aeca-6fb8418f8640",
   "metadata": {},
   "outputs": [
    {
     "data": {
      "text/plain": [
       "['Gender_vec',\n",
       " 'Married_vec',\n",
       " 'Dependents_vec',\n",
       " 'Education_vec',\n",
       " 'Self_Employed_vec',\n",
       " 'Property_Area_vec']"
      ]
     },
     "execution_count": 33,
     "metadata": {},
     "output_type": "execute_result"
    }
   ],
   "source": [
    "encoded_categorical_cols = [col + \"_vec\" for col in categorical_cols]\n",
    "encoded_categorical_cols"
   ]
  },
  {
   "cell_type": "code",
   "execution_count": 34,
   "id": "fda39e3a-1ed7-45e5-af37-61486131423b",
   "metadata": {},
   "outputs": [],
   "source": [
    "numeric_cols = ['ApplicantIncome', 'CoapplicantIncome', 'LoanAmount', 'Loan_Amount_Term',\n",
    "               'Credit_History'] "
   ]
  },
  {
   "cell_type": "code",
   "execution_count": 35,
   "id": "a4b84329-7850-4492-83b4-dab57847aaac",
   "metadata": {},
   "outputs": [
    {
     "data": {
      "text/plain": [
       "['Gender_vec',\n",
       " 'Married_vec',\n",
       " 'Dependents_vec',\n",
       " 'Education_vec',\n",
       " 'Self_Employed_vec',\n",
       " 'Property_Area_vec',\n",
       " 'ApplicantIncome',\n",
       " 'CoapplicantIncome',\n",
       " 'LoanAmount',\n",
       " 'Loan_Amount_Term',\n",
       " 'Credit_History']"
      ]
     },
     "execution_count": 35,
     "metadata": {},
     "output_type": "execute_result"
    }
   ],
   "source": [
    "input_columns = encoded_categorical_cols + numeric_cols\n",
    "input_columns"
   ]
  },
  {
   "cell_type": "code",
   "execution_count": 36,
   "id": "0fe3040e-e11b-4964-919a-f2cb95f0c6fb",
   "metadata": {},
   "outputs": [],
   "source": [
    "from pyspark.ml.feature import VectorAssembler\n",
    "\n",
    "assembler = VectorAssembler(inputCols=input_columns, outputCol='features')\n",
    "\n",
    "pipeline_stages.append(assembler)"
   ]
  },
  {
   "cell_type": "code",
   "execution_count": 37,
   "id": "dae1db09-7019-4c59-a7a2-538e54db22fa",
   "metadata": {},
   "outputs": [
    {
     "data": {
      "text/plain": [
       "[StringIndexer_60caf04fd26a,\n",
       " OneHotEncoder_fca94ac0e8f0,\n",
       " StringIndexer_56e548eb64e3,\n",
       " OneHotEncoder_bccbe2b70f75,\n",
       " StringIndexer_af1e2cacfa8b,\n",
       " OneHotEncoder_d6167fa7cdb8,\n",
       " StringIndexer_48adaea11096,\n",
       " OneHotEncoder_c45decdfddc0,\n",
       " StringIndexer_5b52062cd4cb,\n",
       " OneHotEncoder_0d9986449213,\n",
       " StringIndexer_57d93bf039a0,\n",
       " OneHotEncoder_006c3336acd5,\n",
       " StringIndexer_6d9a11af4c61,\n",
       " VectorAssembler_b8bce8799c82,\n",
       " DecisionTreeClassifier_824a45e6de4b]"
      ]
     },
     "execution_count": 37,
     "metadata": {},
     "output_type": "execute_result"
    }
   ],
   "source": [
    "from pyspark.ml.classification import DecisionTreeClassifier\n",
    "\n",
    "dtc = DecisionTreeClassifier(featuresCol='features', labelCol='Loan_Status_index')\n",
    "\n",
    "pipeline_stages.append(dtc)\n",
    "pipeline_stages"
   ]
  },
  {
   "cell_type": "code",
   "execution_count": 38,
   "id": "36178028-7aaf-4ec6-88a2-27d4e86f6c05",
   "metadata": {},
   "outputs": [],
   "source": [
    "from pyspark.ml import Pipeline\n",
    "\n",
    "pipeline = Pipeline(stages=pipeline_stages)"
   ]
  },
  {
   "cell_type": "code",
   "execution_count": 40,
   "id": "a1315955-9d61-4505-b2f6-cd630d864ed0",
   "metadata": {},
   "outputs": [],
   "source": [
    "model = pipeline.fit(train_data)"
   ]
  },
  {
   "cell_type": "code",
   "execution_count": 41,
   "id": "2507d1ff-a450-476c-8ada-bd9b1f1f798d",
   "metadata": {},
   "outputs": [
    {
     "name": "stdout",
     "output_type": "stream",
     "text": [
      "+--------------------+-----------------+----------+\n",
      "|            features|Loan_Status_index|prediction|\n",
      "+--------------------+-----------------+----------+\n",
      "|(20,[0,2,6,8,10,1...|              0.0|       0.0|\n",
      "|(20,[0,3,4,8,10,1...|              0.0|       0.0|\n",
      "|(20,[0,2,4,9,10,1...|              1.0|       1.0|\n",
      "|(20,[0,2,4,8,10,1...|              0.0|       0.0|\n",
      "|(20,[1,3,4,8,10,1...|              1.0|       0.0|\n",
      "|(20,[0,2,6,8,10,1...|              0.0|       0.0|\n",
      "|(20,[1,3,4,8,10,1...|              1.0|       1.0|\n",
      "|(20,[0,2,6,8,10,1...|              0.0|       0.0|\n",
      "|(20,[0,3,4,8,10,1...|              0.0|       0.0|\n",
      "|(20,[1,2,4,8,10,1...|              0.0|       0.0|\n",
      "+--------------------+-----------------+----------+\n",
      "only showing top 10 rows\n"
     ]
    }
   ],
   "source": [
    "predictions = model.transform(test_data)\n",
    "predictions.select('features', 'Loan_Status_index', 'prediction').show(10)"
   ]
  },
  {
   "cell_type": "code",
   "execution_count": 43,
   "id": "8d8568f4-21e2-481a-ae25-db0580e26425",
   "metadata": {},
   "outputs": [
    {
     "name": "stdout",
     "output_type": "stream",
     "text": [
      "Accuracy = 85.37%\n"
     ]
    }
   ],
   "source": [
    "from pyspark.ml.evaluation import MulticlassClassificationEvaluator\n",
    "\n",
    "accuracty_evaluator = MulticlassClassificationEvaluator(labelCol='Loan_Status_index', predictionCol='prediction', metricName='accuracy')\n",
    "accuracy = accuracty_evaluator.evaluate(predictions) * 100\n",
    "print(f'Accuracy = {accuracy:.2f}%')"
   ]
  },
  {
   "cell_type": "code",
   "execution_count": 44,
   "id": "879b7e18-b4d6-4f19-8065-30dc3c9e8d77",
   "metadata": {},
   "outputs": [
    {
     "name": "stdout",
     "output_type": "stream",
     "text": [
      "Precision = 85.07%\n"
     ]
    }
   ],
   "source": [
    "precision_evaluator = MulticlassClassificationEvaluator(labelCol='Loan_Status_index', predictionCol='prediction', metricName='precisionByLabel')\n",
    "precision = precision_evaluator.evaluate(predictions) * 100\n",
    "print(f'Precision = {precision:.2f}%')"
   ]
  },
  {
   "cell_type": "code",
   "execution_count": 45,
   "id": "df0421ad-e268-432f-92e3-df4c0766dec5",
   "metadata": {},
   "outputs": [
    {
     "name": "stdout",
     "output_type": "stream",
     "text": [
      "Recall = 96.61%\n"
     ]
    }
   ],
   "source": [
    "recall_evaluator = MulticlassClassificationEvaluator(labelCol='Loan_Status_index', predictionCol='prediction', metricName='recallByLabel')\n",
    "recall = recall_evaluator.evaluate(predictions) * 100\n",
    "print(f'Recall = {recall:.2f}%')"
   ]
  },
  {
   "cell_type": "code",
   "execution_count": null,
   "id": "8fadb752-92b3-486f-ade8-7b7d17cc9eb2",
   "metadata": {},
   "outputs": [],
   "source": []
  }
 ],
 "metadata": {
  "kernelspec": {
   "display_name": "Python 3 (ipykernel)",
   "language": "python",
   "name": "python3"
  },
  "language_info": {
   "codemirror_mode": {
    "name": "ipython",
    "version": 3
   },
   "file_extension": ".py",
   "mimetype": "text/x-python",
   "name": "python",
   "nbconvert_exporter": "python",
   "pygments_lexer": "ipython3",
   "version": "3.11.8"
  }
 },
 "nbformat": 4,
 "nbformat_minor": 5
}
