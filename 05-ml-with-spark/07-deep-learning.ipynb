{
 "cells": [
  {
   "cell_type": "code",
   "execution_count": 2,
   "id": "f1eb68ba-8bef-48ee-b0da-87c00218715e",
   "metadata": {},
   "outputs": [
    {
     "name": "stdout",
     "output_type": "stream",
     "text": [
      "Epoch [10/100], Loss: 4.2936\n",
      "Epoch [20/100], Loss: 3.4008\n",
      "Epoch [30/100], Loss: 2.5683\n",
      "Epoch [40/100], Loss: 1.8828\n",
      "Epoch [50/100], Loss: 1.4255\n",
      "Epoch [60/100], Loss: 1.1322\n",
      "Epoch [70/100], Loss: 0.9406\n",
      "Epoch [80/100], Loss: 0.8285\n",
      "Epoch [90/100], Loss: 0.7669\n",
      "Epoch [100/100], Loss: 0.7251\n"
     ]
    }
   ],
   "source": [
    "import torch\n",
    "import torch.nn as nn\n",
    "import torch.optim as optim\n",
    "from sklearn.datasets import fetch_california_housing\n",
    "from sklearn.model_selection import train_test_split\n",
    "from sklearn.preprocessing import StandardScaler\n",
    "\n",
    "# Load the California housing dataset\n",
    "data = fetch_california_housing()\n",
    "X = data.data\n",
    "y = data.target\n",
    "\n",
    "# Split the dataset into training and testing sets\n",
    "X_train, X_test, y_train, y_test = train_test_split(X, y, test_size=0.2)\n",
    "\n",
    "# Standardize features by removing the mean and scaling to unit variance\n",
    "scaler = StandardScaler()\n",
    "X_train = scaler.fit_transform(X_train)\n",
    "X_test = scaler.transform(X_test)\n",
    "\n",
    "# Convert the numpy arrays to PyTorch tensors\n",
    "X_train_tensor = torch.tensor(X_train, dtype=torch.float32)\n",
    "y_train_tensor = torch.tensor(y_train, dtype=torch.float32).view(-1, 1)\n",
    "X_test_tensor = torch.tensor(X_test, dtype=torch.float32)\n",
    "y_test_tensor = torch.tensor(y_test, dtype=torch.float32).view(-1, 1)\n",
    "\n",
    "# Define the neural network model\n",
    "class Net(nn.Module):\n",
    "    def __init__(self, input_size):\n",
    "        super(Net, self).__init__()\n",
    "        self.fc1 = nn.Linear(input_size, 64)\n",
    "        self.relu1 = nn.ReLU()\n",
    "        self.fc2 = nn.Linear(64, 32)\n",
    "        self.relu2 = nn.ReLU()\n",
    "        self.fc3 = nn.Linear(32, 1)\n",
    "\n",
    "    def forward(self, x):\n",
    "        x = self.relu1(self.fc1(x))\n",
    "        x = self.relu2(self.fc2(x))\n",
    "        x = self.fc3(x)\n",
    "        return x\n",
    "\n",
    "# Initialize the model, loss function, and optimizer\n",
    "input_size = X_train.shape[1]\n",
    "model = Net(input_size)\n",
    "criterion = nn.MSELoss()\n",
    "optimizer = optim.Adam(model.parameters(), lr=0.001)\n",
    "\n",
    "# Train the model\n",
    "num_epochs = 100\n",
    "for epoch in range(num_epochs):\n",
    "    model.train()\n",
    "    optimizer.zero_grad()\n",
    "    outputs = model(X_train_tensor)\n",
    "    loss = criterion(outputs, y_train_tensor)\n",
    "    loss.backward()\n",
    "    optimizer.step()\n",
    "\n",
    "    if (epoch+1)%10 == 0:\n",
    "        print(f\"Epoch [{epoch+1}/{num_epochs}], Loss: {loss.item():.4f}\")\n",
    "\n",
    "# Save the trained model\n",
    "torch.save(model.state_dict(), 'model.pth')"
   ]
  },
  {
   "cell_type": "code",
   "execution_count": 3,
   "id": "8612b0c7-fb57-4196-998f-d21d7f3d8450",
   "metadata": {},
   "outputs": [
    {
     "data": {
      "text/plain": [
       "array([[   8.3252    ,   41.        ,    6.98412698, ...,    2.55555556,\n",
       "          37.88      , -122.23      ],\n",
       "       [   8.3014    ,   21.        ,    6.23813708, ...,    2.10984183,\n",
       "          37.86      , -122.22      ],\n",
       "       [   7.2574    ,   52.        ,    8.28813559, ...,    2.80225989,\n",
       "          37.85      , -122.24      ],\n",
       "       ...,\n",
       "       [   1.7       ,   17.        ,    5.20554273, ...,    2.3256351 ,\n",
       "          39.43      , -121.22      ],\n",
       "       [   1.8672    ,   18.        ,    5.32951289, ...,    2.12320917,\n",
       "          39.43      , -121.32      ],\n",
       "       [   2.3886    ,   16.        ,    5.25471698, ...,    2.61698113,\n",
       "          39.37      , -121.24      ]], shape=(20640, 8))"
      ]
     },
     "execution_count": 3,
     "metadata": {},
     "output_type": "execute_result"
    }
   ],
   "source": [
    "X"
   ]
  },
  {
   "cell_type": "code",
   "execution_count": 4,
   "id": "8192c961-bbc2-484a-842e-73ec319b9114",
   "metadata": {},
   "outputs": [
    {
     "data": {
      "text/plain": [
       "array([4.526, 3.585, 3.521, ..., 0.923, 0.847, 0.894], shape=(20640,))"
      ]
     },
     "execution_count": 4,
     "metadata": {},
     "output_type": "execute_result"
    }
   ],
   "source": [
    "y"
   ]
  },
  {
   "cell_type": "code",
   "execution_count": 5,
   "id": "184a13ac-1ad3-467a-b9a4-e3410ed2025a",
   "metadata": {},
   "outputs": [
    {
     "data": {
      "text/html": [
       "<div>\n",
       "<style scoped>\n",
       "    .dataframe tbody tr th:only-of-type {\n",
       "        vertical-align: middle;\n",
       "    }\n",
       "\n",
       "    .dataframe tbody tr th {\n",
       "        vertical-align: top;\n",
       "    }\n",
       "\n",
       "    .dataframe thead th {\n",
       "        text-align: right;\n",
       "    }\n",
       "</style>\n",
       "<table border=\"1\" class=\"dataframe\">\n",
       "  <thead>\n",
       "    <tr style=\"text-align: right;\">\n",
       "      <th></th>\n",
       "      <th>MedInc</th>\n",
       "      <th>HouseAge</th>\n",
       "      <th>AveRooms</th>\n",
       "      <th>AveBedrms</th>\n",
       "      <th>Population</th>\n",
       "      <th>AveOccup</th>\n",
       "      <th>Latitude</th>\n",
       "      <th>Longitude</th>\n",
       "    </tr>\n",
       "  </thead>\n",
       "  <tbody>\n",
       "    <tr>\n",
       "      <th>0</th>\n",
       "      <td>0.621343</td>\n",
       "      <td>-1.955549</td>\n",
       "      <td>0.565493</td>\n",
       "      <td>-0.094238</td>\n",
       "      <td>1.320148</td>\n",
       "      <td>-0.024522</td>\n",
       "      <td>1.382349</td>\n",
       "      <td>-1.575524</td>\n",
       "    </tr>\n",
       "    <tr>\n",
       "      <th>1</th>\n",
       "      <td>2.312259</td>\n",
       "      <td>1.855027</td>\n",
       "      <td>0.515777</td>\n",
       "      <td>-0.102445</td>\n",
       "      <td>-0.642364</td>\n",
       "      <td>-0.062410</td>\n",
       "      <td>0.844094</td>\n",
       "      <td>-1.285764</td>\n",
       "    </tr>\n",
       "    <tr>\n",
       "      <th>2</th>\n",
       "      <td>0.452247</td>\n",
       "      <td>0.029126</td>\n",
       "      <td>0.434669</td>\n",
       "      <td>-0.236373</td>\n",
       "      <td>-0.211312</td>\n",
       "      <td>-0.001183</td>\n",
       "      <td>-0.742591</td>\n",
       "      <td>1.127242</td>\n",
       "    </tr>\n",
       "    <tr>\n",
       "      <th>3</th>\n",
       "      <td>5.858342</td>\n",
       "      <td>1.855027</td>\n",
       "      <td>1.622906</td>\n",
       "      <td>-0.074516</td>\n",
       "      <td>-0.142975</td>\n",
       "      <td>-0.002936</td>\n",
       "      <td>-0.723869</td>\n",
       "      <td>0.582692</td>\n",
       "    </tr>\n",
       "    <tr>\n",
       "      <th>4</th>\n",
       "      <td>-0.089063</td>\n",
       "      <td>-1.002905</td>\n",
       "      <td>0.027598</td>\n",
       "      <td>-0.045546</td>\n",
       "      <td>0.965319</td>\n",
       "      <td>-0.002721</td>\n",
       "      <td>0.886218</td>\n",
       "      <td>-0.636301</td>\n",
       "    </tr>\n",
       "    <tr>\n",
       "      <th>...</th>\n",
       "      <td>...</td>\n",
       "      <td>...</td>\n",
       "      <td>...</td>\n",
       "      <td>...</td>\n",
       "      <td>...</td>\n",
       "      <td>...</td>\n",
       "      <td>...</td>\n",
       "      <td>...</td>\n",
       "    </tr>\n",
       "    <tr>\n",
       "      <th>4123</th>\n",
       "      <td>-0.035296</td>\n",
       "      <td>-0.288422</td>\n",
       "      <td>-0.346185</td>\n",
       "      <td>0.049532</td>\n",
       "      <td>0.083065</td>\n",
       "      <td>-0.095223</td>\n",
       "      <td>-0.798757</td>\n",
       "      <td>0.572700</td>\n",
       "    </tr>\n",
       "    <tr>\n",
       "      <th>4124</th>\n",
       "      <td>2.120833</td>\n",
       "      <td>0.664222</td>\n",
       "      <td>0.351040</td>\n",
       "      <td>-0.327799</td>\n",
       "      <td>-0.805323</td>\n",
       "      <td>-0.053764</td>\n",
       "      <td>0.853455</td>\n",
       "      <td>-1.280768</td>\n",
       "    </tr>\n",
       "    <tr>\n",
       "      <th>4125</th>\n",
       "      <td>-0.210343</td>\n",
       "      <td>1.855027</td>\n",
       "      <td>-0.049907</td>\n",
       "      <td>-0.002631</td>\n",
       "      <td>-0.394422</td>\n",
       "      <td>-0.088379</td>\n",
       "      <td>0.998550</td>\n",
       "      <td>-1.335722</td>\n",
       "    </tr>\n",
       "    <tr>\n",
       "      <th>4126</th>\n",
       "      <td>-0.805316</td>\n",
       "      <td>-1.399840</td>\n",
       "      <td>-0.821129</td>\n",
       "      <td>-0.013165</td>\n",
       "      <td>-0.198170</td>\n",
       "      <td>-0.105647</td>\n",
       "      <td>1.274698</td>\n",
       "      <td>-1.570528</td>\n",
       "    </tr>\n",
       "    <tr>\n",
       "      <th>4127</th>\n",
       "      <td>1.722869</td>\n",
       "      <td>-0.288422</td>\n",
       "      <td>0.932053</td>\n",
       "      <td>-0.034030</td>\n",
       "      <td>-0.826350</td>\n",
       "      <td>0.012116</td>\n",
       "      <td>-0.812798</td>\n",
       "      <td>0.847473</td>\n",
       "    </tr>\n",
       "  </tbody>\n",
       "</table>\n",
       "<p>4128 rows × 8 columns</p>\n",
       "</div>"
      ],
      "text/plain": [
       "        MedInc  HouseAge  AveRooms  AveBedrms  Population  AveOccup  Latitude  \\\n",
       "0     0.621343 -1.955549  0.565493  -0.094238    1.320148 -0.024522  1.382349   \n",
       "1     2.312259  1.855027  0.515777  -0.102445   -0.642364 -0.062410  0.844094   \n",
       "2     0.452247  0.029126  0.434669  -0.236373   -0.211312 -0.001183 -0.742591   \n",
       "3     5.858342  1.855027  1.622906  -0.074516   -0.142975 -0.002936 -0.723869   \n",
       "4    -0.089063 -1.002905  0.027598  -0.045546    0.965319 -0.002721  0.886218   \n",
       "...        ...       ...       ...        ...         ...       ...       ...   \n",
       "4123 -0.035296 -0.288422 -0.346185   0.049532    0.083065 -0.095223 -0.798757   \n",
       "4124  2.120833  0.664222  0.351040  -0.327799   -0.805323 -0.053764  0.853455   \n",
       "4125 -0.210343  1.855027 -0.049907  -0.002631   -0.394422 -0.088379  0.998550   \n",
       "4126 -0.805316 -1.399840 -0.821129  -0.013165   -0.198170 -0.105647  1.274698   \n",
       "4127  1.722869 -0.288422  0.932053  -0.034030   -0.826350  0.012116 -0.812798   \n",
       "\n",
       "      Longitude  \n",
       "0     -1.575524  \n",
       "1     -1.285764  \n",
       "2      1.127242  \n",
       "3      0.582692  \n",
       "4     -0.636301  \n",
       "...         ...  \n",
       "4123   0.572700  \n",
       "4124  -1.280768  \n",
       "4125  -1.335722  \n",
       "4126  -1.570528  \n",
       "4127   0.847473  \n",
       "\n",
       "[4128 rows x 8 columns]"
      ]
     },
     "execution_count": 5,
     "metadata": {},
     "output_type": "execute_result"
    }
   ],
   "source": [
    "import pandas as pd\n",
    "\n",
    "pdf = pd.DataFrame(X_test, columns=data.feature_names)\n",
    "pdf"
   ]
  },
  {
   "cell_type": "code",
   "execution_count": 6,
   "id": "6c8b6a98-77af-4d5b-ae6d-a320a602c082",
   "metadata": {},
   "outputs": [
    {
     "name": "stderr",
     "output_type": "stream",
     "text": [
      "[Stage 0:>                                                          (0 + 1) / 1]"
     ]
    },
    {
     "name": "stdout",
     "output_type": "stream",
     "text": [
      "+------------+-----------+------------+------------+-----------+------------+-----------+-----------+\n",
      "|      MedInc|   HouseAge|    AveRooms|   AveBedrms| Population|    AveOccup|   Latitude|  Longitude|\n",
      "+------------+-----------+------------+------------+-----------+------------+-----------+-----------+\n",
      "|   0.6213434| -1.9555492|   0.5654933|-0.094237834|  1.3201483| -0.02452237|  1.3823495| -1.5755241|\n",
      "|   2.3122587|   1.855027|  0.51577705| -0.10244485| -0.6423641|-0.062409732| 0.84409356| -1.2857636|\n",
      "|  0.45224655|0.029125877|  0.43466917| -0.23637258|-0.21131223|-0.001183...| -0.7425912|  1.1272416|\n",
      "|   5.8583417|   1.855027|   1.6229062| -0.07451551|-0.14297475|-0.002936...|-0.72386926|  0.5826918|\n",
      "|-0.089063354| -1.0029051| 0.027597873|-0.045545746|  0.9653191|-0.002720...| 0.88621795|-0.63630056|\n",
      "|  0.17687838|  0.4260609| 0.022269458| -0.35598207| -0.7606405|-0.022938322|  1.2746983| -1.2158215|\n",
      "|  0.40637818|  0.5848349|  0.02567751|  -0.2016987| -0.5030607| -0.03613399| -0.8502424| 0.71758026|\n",
      "| -0.23304053| -1.3998402|-0.113633096|  0.23698652|  0.3660519|-0.054037135|  1.4291543| -1.1159041|\n",
      "|  0.16945307| -1.1616791|  0.27040833| 0.019832496|-0.64324015| 2.791482E-4|  1.2653373|-0.76619315|\n",
      "|  -0.8607683|-0.68535715|  -0.6750591|  0.15852436|-0.74574643|-0.099978074|  1.0921593| -1.2358049|\n",
      "|   1.2258474|-0.52658314|  0.47216436|  -0.1605588|-0.12808068|-0.020858524|  1.2091714| -1.5305613|\n",
      "|   1.3236928| -0.9235182|  0.43245602| -0.21943182| 0.98809826|-0.053592663| 0.88621795| -1.3756894|\n",
      "|   0.1947307| 0.34667388|  0.27709183| -0.06990135|-0.31206623| 0.005667763| -0.7051473|  0.8474729|\n",
      "| -0.61157304| 0.18789989|  -0.8343529| -0.33228105|-0.15524045| 0.022164365|-0.92981064|  0.8174977|\n",
      "|  -1.1662064|  1.5374789| -0.19022472| 0.016998053| -0.1937898|-0.009425173| -0.7706741|  0.6326505|\n",
      "|  -1.3924412|  1.1405439|  -0.5824801|0.0033641323| -0.5039368|  0.12439587| -0.7706741| 0.65263397|\n",
      "| -0.36537945|  0.5848349|  0.46270874| -0.08854499|-0.50744134| -0.02129918|-0.15753044|-0.54137903|\n",
      "|  0.44071364|-0.12964813|    0.425036|  -0.1618966|-0.34623495| -0.00807055|-0.66302294|  0.4927661|\n",
      "|  -0.8118456| 0.10851288|-0.024326153| -0.07946614| 0.22674857|-0.014118472|  1.8176346|-0.97601974|\n",
      "|   1.4907359| -1.0029051|    1.010056| -0.06682067| 0.09883481| 0.047060702|  0.7692058| -1.1508752|\n",
      "+------------+-----------+------------+------------+-----------+------------+-----------+-----------+\n",
      "only showing top 20 rows\n"
     ]
    },
    {
     "name": "stderr",
     "output_type": "stream",
     "text": [
      "                                                                                "
     ]
    }
   ],
   "source": [
    "from pyspark.sql.types import *\n",
    "\n",
    "# Spark is somehow auto-converting Pandas float32 to DoubleType(), so forcing FloatType()\n",
    "schema = StructType([\n",
    "StructField(\"MedInc\",FloatType(),True),\n",
    "StructField(\"HouseAge\",FloatType(),True),\n",
    "StructField(\"AveRooms\",FloatType(),True),\n",
    "StructField(\"AveBedrms\",FloatType(),True),\n",
    "StructField(\"Population\",FloatType(),True),\n",
    "StructField(\"AveOccup\",FloatType(),True),\n",
    "StructField(\"Latitude\",FloatType(),True),\n",
    "StructField(\"Longitude\",FloatType(),True)\n",
    "])\n",
    "\n",
    "df = spark.createDataFrame(pdf, schema=schema)\n",
    "df.show(truncate=12)"
   ]
  },
  {
   "cell_type": "code",
   "execution_count": 23,
   "id": "d4af618b-2600-442a-95ed-c4db5066bb57",
   "metadata": {},
   "outputs": [],
   "source": [
    "def predict_batch_fn():\n",
    "    device = \"cuda\" if torch.cuda.is_available() else \"cpu\"\n",
    "    \n",
    "    def predict(inputs):\n",
    "        torch_inputs = torch.from_numpy(inputs).to(device)\n",
    "        outputs = model(torch_inputs) # .flatten()\n",
    "        return outputs.detach().numpy()\n",
    "\n",
    "    return predict"
   ]
  },
  {
   "cell_type": "code",
   "execution_count": 24,
   "id": "b7b882e1-dc4f-48a4-b6e6-ad5046aa78e0",
   "metadata": {},
   "outputs": [],
   "source": [
    "from pyspark.ml.functions import predict_batch_udf\n",
    "\n",
    "classify = predict_batch_udf(predict_batch_fn,\n",
    "                             return_type=FloatType(),\n",
    "                             input_tensor_shapes=[[8]],\n",
    "                             batch_size=50)"
   ]
  },
  {
   "cell_type": "code",
   "execution_count": 25,
   "id": "5f22093b-c711-4586-9e2f-23f6f16a4dd7",
   "metadata": {},
   "outputs": [
    {
     "data": {
      "text/plain": [
       "['MedInc',\n",
       " 'HouseAge',\n",
       " 'AveRooms',\n",
       " 'AveBedrms',\n",
       " 'Population',\n",
       " 'AveOccup',\n",
       " 'Latitude',\n",
       " 'Longitude']"
      ]
     },
     "execution_count": 25,
     "metadata": {},
     "output_type": "execute_result"
    }
   ],
   "source": [
    "columns = df.columns\n",
    "columns"
   ]
  },
  {
   "cell_type": "code",
   "execution_count": 26,
   "id": "eb68c980-407a-4b53-8419-ba60ee9d32d4",
   "metadata": {},
   "outputs": [
    {
     "name": "stderr",
     "output_type": "stream",
     "text": [
      "[Stage 5:>                                                          (0 + 1) / 1]"
     ]
    },
    {
     "name": "stdout",
     "output_type": "stream",
     "text": [
      "+------------+-----------+------------+------------+-----------+-------------+-----------+-----------+---------+\n",
      "|      MedInc|   HouseAge|    AveRooms|   AveBedrms| Population|     AveOccup|   Latitude|  Longitude|    preds|\n",
      "+------------+-----------+------------+------------+-----------+-------------+-----------+-----------+---------+\n",
      "|   0.6213434| -1.9555492|   0.5654933|-0.094237834|  1.3201483|  -0.02452237|  1.3823495| -1.5755241| 2.515409|\n",
      "|   2.3122587|   1.855027|  0.51577705| -0.10244485| -0.6423641| -0.062409732| 0.84409356| -1.2857636|4.3639803|\n",
      "|  0.45224655|0.029125877|  0.43466917| -0.23637258|-0.21131223|-0.0011831677| -0.7425912|  1.1272416| 2.168374|\n",
      "|   5.8583417|   1.855027|   1.6229062| -0.07451551|-0.14297475|-0.0029363814|-0.72386926|  0.5826918| 7.552373|\n",
      "|-0.089063354| -1.0029051| 0.027597873|-0.045545746|  0.9653191|-0.0027205816| 0.88621795|-0.63630056|1.3233948|\n",
      "|  0.17687838|  0.4260609| 0.022269458| -0.35598207| -0.7606405| -0.022938322|  1.2746983| -1.2158215|2.1539354|\n",
      "|  0.40637818|  0.5848349|  0.02567751|  -0.2016987| -0.5030607|  -0.03613399| -0.8502424| 0.71758026| 2.337712|\n",
      "| -0.23304053| -1.3998402|-0.113633096|  0.23698652|  0.3660519| -0.054037135|  1.4291543| -1.1159041|1.5892857|\n",
      "|  0.16945307| -1.1616791|  0.27040833| 0.019832496|-0.64324015|  2.791482E-4|  1.2653373|-0.76619315|1.7699013|\n",
      "|  -0.8607683|-0.68535715|  -0.6750591|  0.15852436|-0.74574643| -0.099978074|  1.0921593| -1.2358049|1.4418938|\n",
      "|   1.2258474|-0.52658314|  0.47216436|  -0.1605588|-0.12808068| -0.020858524|  1.2091714| -1.5305613|2.9916465|\n",
      "|   1.3236928| -0.9235182|  0.43245602| -0.21943182| 0.98809826| -0.053592663| 0.88621795| -1.3756894|  2.83616|\n",
      "|   0.1947307| 0.34667388|  0.27709183| -0.06990135|-0.31206623|  0.005667763| -0.7051473|  0.8474729|1.9279401|\n",
      "| -0.61157304| 0.18789989|  -0.8343529| -0.33228105|-0.15524045|  0.022164365|-0.92981064|  0.8174977|1.6870931|\n",
      "|  -1.1662064|  1.5374789| -0.19022472| 0.016998053| -0.1937898| -0.009425173| -0.7706741|  0.6326505|1.8830645|\n",
      "|  -1.3924412|  1.1405439|  -0.5824801|0.0033641323| -0.5039368|   0.12439587| -0.7706741| 0.65263397|1.6242704|\n",
      "| -0.36537945|  0.5848349|  0.46270874| -0.08854499|-0.50744134|  -0.02129918|-0.15753044|-0.54137903|1.6021284|\n",
      "|  0.44071364|-0.12964813|    0.425036|  -0.1618966|-0.34623495|  -0.00807055|-0.66302294|  0.4927661|2.0303462|\n",
      "|  -0.8118456| 0.10851288|-0.024326153| -0.07946614| 0.22674857| -0.014118472|  1.8176346|-0.97601974|0.9856851|\n",
      "|   1.4907359| -1.0029051|    1.010056| -0.06682067| 0.09883481|  0.047060702|  0.7692058| -1.1508752|3.0515392|\n",
      "+------------+-----------+------------+------------+-----------+-------------+-----------+-----------+---------+\n",
      "only showing top 20 rows\n"
     ]
    },
    {
     "name": "stderr",
     "output_type": "stream",
     "text": [
      "                                                                                "
     ]
    }
   ],
   "source": [
    "import pyspark.sql.functions as F\n",
    "\n",
    "preds = df.withColumn(\"preds\", classify(F.struct(*columns)))\n",
    "preds.show()"
   ]
  },
  {
   "cell_type": "code",
   "execution_count": 28,
   "id": "486a8c8d-79af-4954-a827-65a15c9c8f93",
   "metadata": {},
   "outputs": [
    {
     "data": {
      "text/plain": [
       "array([[ 6.21343361e-01, -1.95554921e+00,  5.65493282e-01, ...,\n",
       "        -2.45223692e-02,  1.38234945e+00, -1.57552414e+00],\n",
       "       [ 2.31225880e+00,  1.85502695e+00,  5.15777055e-01, ...,\n",
       "        -6.24097310e-02,  8.44093558e-01, -1.28576367e+00],\n",
       "       [ 4.52246550e-01,  2.91258761e-02,  4.34669171e-01, ...,\n",
       "        -1.18316765e-03, -7.42591188e-01,  1.12724161e+00],\n",
       "       ...,\n",
       "       [-2.10343318e-01,  1.85502695e+00, -4.99074110e-02, ...,\n",
       "        -8.83794576e-02,  9.98549595e-01, -1.33572237e+00],\n",
       "       [-8.05315528e-01, -1.39984018e+00, -8.21128591e-01, ...,\n",
       "        -1.05647042e-01,  1.27469827e+00, -1.57052827e+00],\n",
       "       [ 1.72286874e+00, -2.88422137e-01,  9.32053427e-01, ...,\n",
       "         1.21162102e-02, -8.12798477e-01,  8.47472885e-01]],\n",
       "      shape=(4128, 8))"
      ]
     },
     "execution_count": 28,
     "metadata": {},
     "output_type": "execute_result"
    }
   ],
   "source": [
    "X_test"
   ]
  },
  {
   "cell_type": "code",
   "execution_count": 29,
   "id": "d2c25ff3-9a3e-4c2a-92ec-49a4674a4670",
   "metadata": {},
   "outputs": [
    {
     "data": {
      "text/plain": [
       "array([2.408  , 5.00001, 1.346  , ..., 2.44   , 1.042  , 2.701  ],\n",
       "      shape=(4128,))"
      ]
     },
     "execution_count": 29,
     "metadata": {},
     "output_type": "execute_result"
    }
   ],
   "source": [
    "y_test"
   ]
  },
  {
   "cell_type": "code",
   "execution_count": 31,
   "id": "ba039462-de8e-4c9c-8f6e-e13110e8f39d",
   "metadata": {},
   "outputs": [
    {
     "name": "stderr",
     "output_type": "stream",
     "text": [
      "                                                                                "
     ]
    }
   ],
   "source": [
    "#predictions = [x['preds'] for x in preds.select('preds').collect()]\n",
    "predictions = preds.select('preds').toPandas()['preds'].tolist()"
   ]
  },
  {
   "cell_type": "code",
   "execution_count": 32,
   "id": "7b88bad2-8f89-4cec-8ad9-1226fdfcd2d2",
   "metadata": {},
   "outputs": [
    {
     "name": "stdout",
     "output_type": "stream",
     "text": [
      "Mean Absolute Error on test set: 0.6161130974278431\n"
     ]
    }
   ],
   "source": [
    "from sklearn.metrics import mean_absolute_error\n",
    "\n",
    "# Compute MAE\n",
    "mae = mean_absolute_error(y_test, predictions)\n",
    "\n",
    "print(\"Mean Absolute Error on test set:\", mae)"
   ]
  },
  {
   "cell_type": "code",
   "execution_count": 33,
   "id": "f344d96b-10da-4c4b-b10e-657fea0295e3",
   "metadata": {},
   "outputs": [
    {
     "data": {
      "text/plain": [
       "numpy.ndarray"
      ]
     },
     "execution_count": 33,
     "metadata": {},
     "output_type": "execute_result"
    }
   ],
   "source": [
    "type(y_test)"
   ]
  },
  {
   "cell_type": "code",
   "execution_count": 34,
   "id": "3025a773-8031-468c-af2f-ad9dfde58177",
   "metadata": {},
   "outputs": [
    {
     "data": {
      "text/plain": [
       "tensor([2.4080, 5.0000, 1.3460,  ..., 2.4400, 1.0420, 2.7010],\n",
       "       dtype=torch.float64)"
      ]
     },
     "execution_count": 34,
     "metadata": {},
     "output_type": "execute_result"
    }
   ],
   "source": [
    "torch.tensor(y_test)"
   ]
  },
  {
   "cell_type": "code",
   "execution_count": 35,
   "id": "cc333d57-215c-4d3e-9eb5-b0923be799a0",
   "metadata": {},
   "outputs": [
    {
     "data": {
      "text/plain": [
       "tensor([2.5154, 4.3640, 2.1684,  ..., 2.4202, 1.7867, 3.3725])"
      ]
     },
     "execution_count": 35,
     "metadata": {},
     "output_type": "execute_result"
    }
   ],
   "source": [
    "torch.tensor(predictions)"
   ]
  },
  {
   "cell_type": "code",
   "execution_count": 36,
   "id": "bf75136e-2ffa-405e-8dfc-582c397cb456",
   "metadata": {},
   "outputs": [
    {
     "data": {
      "text/plain": [
       "tensor(0.7111, dtype=torch.float64)"
      ]
     },
     "execution_count": 36,
     "metadata": {},
     "output_type": "execute_result"
    }
   ],
   "source": [
    "criterion(torch.tensor(y_test), torch.tensor(predictions))"
   ]
  },
  {
   "cell_type": "code",
   "execution_count": 38,
   "id": "9703f639-aea9-43e4-89e3-3bbce40dddd6",
   "metadata": {},
   "outputs": [
    {
     "data": {
      "text/plain": [
       "tensor([[315.5470]], grad_fn=<AddmmBackward0>)"
      ]
     },
     "execution_count": 38,
     "metadata": {},
     "output_type": "execute_result"
    }
   ],
   "source": [
    "import torch\n",
    "import torch.nn as nn\n",
    "\n",
    "# Define the neural network model using nn.Sequential\n",
    "input_size = 8  # Number of features in the California housing dataset\n",
    "test_model = nn.Sequential(\n",
    "    nn.Linear(input_size, 64),\n",
    "    nn.ReLU(),\n",
    "    nn.Linear(64, 32),\n",
    "    nn.ReLU(),\n",
    "    nn.Linear(32, 1)\n",
    ")\n",
    "\n",
    "# Load the trained model's state if available\n",
    "# Uncomment the following lines if you have a saved model state\n",
    "model.load_state_dict(torch.load('model.pth'))\n",
    "model.eval()\n",
    "\n",
    "# Create an arbitrary input tensor with explicit feature values\n",
    "# Let's define explicit values for the 8 features:\n",
    "# - MedInc: Median income in block group\n",
    "# - HouseAge: Median house age in block group\n",
    "# - AveRooms: Average number of rooms per household\n",
    "# - AveBedrms: Average number of bedrooms per household\n",
    "# - Population: Block group population\n",
    "# - AveOccup: Average number of household members\n",
    "# - Latitude: Latitude coordinate\n",
    "# - Longitude: Longitude coordinate\n",
    "\n",
    "# For demonstration, we'll use the following values (made-up for this example):\n",
    "input_tensor = torch.tensor([\n",
    "    5.0,      # MedInc\n",
    "    30.0,     # HouseAge\n",
    "    6.0,      # AveRooms\n",
    "    1.0,      # AveBedrms\n",
    "    1000.0,   # Population\n",
    "    3.0,      # AveOccup\n",
    "    34.05,    # Latitude (e.g., Los Angeles)\n",
    "    -118.25   # Longitude (e.g., Los Angeles)\n",
    "], dtype=torch.float32)\n",
    "\n",
    "\n",
    "# Perform a forward pass through the model\n",
    "#output = test_model(input_tensor.unsqueeze(0))\n",
    "output = model(input_tensor.unsqueeze(0))\n",
    "output"
   ]
  },
  {
   "cell_type": "code",
   "execution_count": null,
   "id": "68c64016-6f2c-43f6-a719-e404f6d0162d",
   "metadata": {},
   "outputs": [],
   "source": []
  }
 ],
 "metadata": {
  "kernelspec": {
   "display_name": "Python 3 (ipykernel)",
   "language": "python",
   "name": "python3"
  },
  "language_info": {
   "codemirror_mode": {
    "name": "ipython",
    "version": 3
   },
   "file_extension": ".py",
   "mimetype": "text/x-python",
   "name": "python",
   "nbconvert_exporter": "python",
   "pygments_lexer": "ipython3",
   "version": "3.10.18"
  }
 },
 "nbformat": 4,
 "nbformat_minor": 5
}
