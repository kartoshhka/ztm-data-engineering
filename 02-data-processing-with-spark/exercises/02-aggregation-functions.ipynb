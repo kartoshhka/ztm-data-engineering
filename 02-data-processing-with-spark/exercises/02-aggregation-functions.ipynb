{
 "cells": [
  {
   "cell_type": "code",
   "execution_count": 1,
   "id": "2321b05f-9964-42dd-a049-6226310a5e08",
   "metadata": {},
   "outputs": [],
   "source": [
    "from pyspark.sql import SparkSession\n",
    "\n",
    "spark = SparkSession.builder \\\n",
    "    .appName(\"Spark aggregation functions\") \\\n",
    "    .getOrCreate()"
   ]
  },
  {
   "cell_type": "code",
   "execution_count": 2,
   "id": "b409f1b4-0cb7-4544-ae6e-5ecf760cba7d",
   "metadata": {
    "scrolled": true
   },
   "outputs": [
    {
     "name": "stdout",
     "output_type": "stream",
     "text": [
      "root\n",
      " |-- id: long (nullable = true)\n",
      " |-- listing_url: string (nullable = true)\n",
      " |-- scrape_id: long (nullable = true)\n",
      " |-- last_scraped: date (nullable = true)\n",
      " |-- source: string (nullable = true)\n",
      " |-- name: string (nullable = true)\n",
      " |-- description: string (nullable = true)\n",
      " |-- neighborhood_overview: string (nullable = true)\n",
      " |-- picture_url: string (nullable = true)\n",
      " |-- host_id: integer (nullable = true)\n",
      " |-- host_url: string (nullable = true)\n",
      " |-- host_name: string (nullable = true)\n",
      " |-- host_since: date (nullable = true)\n",
      " |-- host_location: string (nullable = true)\n",
      " |-- host_about: string (nullable = true)\n",
      " |-- host_response_time: string (nullable = true)\n",
      " |-- host_response_rate: string (nullable = true)\n",
      " |-- host_acceptance_rate: string (nullable = true)\n",
      " |-- host_is_superhost: string (nullable = true)\n",
      " |-- host_thumbnail_url: string (nullable = true)\n",
      " |-- host_picture_url: string (nullable = true)\n",
      " |-- host_neighbourhood: string (nullable = true)\n",
      " |-- host_listings_count: integer (nullable = true)\n",
      " |-- host_total_listings_count: integer (nullable = true)\n",
      " |-- host_verifications: string (nullable = true)\n",
      " |-- host_has_profile_pic: string (nullable = true)\n",
      " |-- host_identity_verified: string (nullable = true)\n",
      " |-- neighbourhood: string (nullable = true)\n",
      " |-- neighbourhood_cleansed: string (nullable = true)\n",
      " |-- neighbourhood_group_cleansed: string (nullable = true)\n",
      " |-- latitude: double (nullable = true)\n",
      " |-- longitude: double (nullable = true)\n",
      " |-- property_type: string (nullable = true)\n",
      " |-- room_type: string (nullable = true)\n",
      " |-- accommodates: integer (nullable = true)\n",
      " |-- bathrooms: double (nullable = true)\n",
      " |-- bathrooms_text: string (nullable = true)\n",
      " |-- bedrooms: integer (nullable = true)\n",
      " |-- beds: integer (nullable = true)\n",
      " |-- amenities: string (nullable = true)\n",
      " |-- price: string (nullable = true)\n",
      " |-- minimum_nights: integer (nullable = true)\n",
      " |-- maximum_nights: integer (nullable = true)\n",
      " |-- minimum_minimum_nights: integer (nullable = true)\n",
      " |-- maximum_minimum_nights: integer (nullable = true)\n",
      " |-- minimum_maximum_nights: integer (nullable = true)\n",
      " |-- maximum_maximum_nights: integer (nullable = true)\n",
      " |-- minimum_nights_avg_ntm: double (nullable = true)\n",
      " |-- maximum_nights_avg_ntm: double (nullable = true)\n",
      " |-- calendar_updated: string (nullable = true)\n",
      " |-- has_availability: string (nullable = true)\n",
      " |-- availability_30: integer (nullable = true)\n",
      " |-- availability_60: integer (nullable = true)\n",
      " |-- availability_90: integer (nullable = true)\n",
      " |-- availability_365: integer (nullable = true)\n",
      " |-- calendar_last_scraped: date (nullable = true)\n",
      " |-- number_of_reviews: integer (nullable = true)\n",
      " |-- number_of_reviews_ltm: integer (nullable = true)\n",
      " |-- number_of_reviews_l30d: integer (nullable = true)\n",
      " |-- availability_eoy: integer (nullable = true)\n",
      " |-- number_of_reviews_ly: integer (nullable = true)\n",
      " |-- estimated_occupancy_l365d: integer (nullable = true)\n",
      " |-- estimated_revenue_l365d: integer (nullable = true)\n",
      " |-- first_review: date (nullable = true)\n",
      " |-- last_review: date (nullable = true)\n",
      " |-- review_scores_rating: double (nullable = true)\n",
      " |-- review_scores_accuracy: double (nullable = true)\n",
      " |-- review_scores_cleanliness: double (nullable = true)\n",
      " |-- review_scores_checkin: double (nullable = true)\n",
      " |-- review_scores_communication: double (nullable = true)\n",
      " |-- review_scores_location: double (nullable = true)\n",
      " |-- review_scores_value: double (nullable = true)\n",
      " |-- license: string (nullable = true)\n",
      " |-- instant_bookable: string (nullable = true)\n",
      " |-- calculated_host_listings_count: integer (nullable = true)\n",
      " |-- calculated_host_listings_count_entire_homes: integer (nullable = true)\n",
      " |-- calculated_host_listings_count_private_rooms: integer (nullable = true)\n",
      " |-- calculated_host_listings_count_shared_rooms: integer (nullable = true)\n",
      " |-- reviews_per_month: double (nullable = true)\n",
      "\n"
     ]
    }
   ],
   "source": [
    "listings = spark.read.csv(\"../data/listings.csv.gz\", \n",
    "    header=True,\n",
    "    inferSchema=True,\n",
    "    sep=\",\", \n",
    "    quote='\"',\n",
    "    escape='\"', \n",
    "    multiLine=True,\n",
    "    mode=\"PERMISSIVE\" \n",
    ")\n",
    "listings.printSchema()"
   ]
  },
  {
   "cell_type": "code",
   "execution_count": 3,
   "id": "ed5808e2-8296-4e55-8b9f-8ced9e7cae0b",
   "metadata": {},
   "outputs": [
    {
     "name": "stdout",
     "output_type": "stream",
     "text": [
      "root\n",
      " |-- listing_id: long (nullable = true)\n",
      " |-- id: long (nullable = true)\n",
      " |-- date: date (nullable = true)\n",
      " |-- reviewer_id: integer (nullable = true)\n",
      " |-- reviewer_name: string (nullable = true)\n",
      " |-- comments: string (nullable = true)\n",
      "\n"
     ]
    }
   ],
   "source": [
    "reviews = spark.read.csv(\"../data/reviews.csv.gz\", \n",
    "    header=True,\n",
    "    inferSchema=True,\n",
    "    sep=\",\",\n",
    "    quote='\"',\n",
    "    escape='\"',\n",
    "    multiLine=True,\n",
    "    mode=\"PERMISSIVE\"\n",
    ")\n",
    "reviews.printSchema()"
   ]
  },
  {
   "cell_type": "code",
   "execution_count": 8,
   "id": "fde34e78-3feb-4fd3-a675-3831adf3bc73",
   "metadata": {},
   "outputs": [
    {
     "name": "stdout",
     "output_type": "stream",
     "text": [
      "+--------+--------------------------------------------------+-----------+\n",
      "|id      |name                                              |num_reviews|\n",
      "+--------+--------------------------------------------------+-----------+\n",
      "|47408549|Double Room+ Ensuite                              |1855       |\n",
      "|30760930|Double Garden View room - London House Hotel***   |1682       |\n",
      "|43120947|Private double room with en suite facilities      |1615       |\n",
      "|19670926|Locke Studio Apartment at Leman Locke             |1436       |\n",
      "|45006692|Budget Double Room In Colliers Hotel.             |1433       |\n",
      "|1436172 |Cosy Double in Kings Cross Houseshare nr Eurostar |1195       |\n",
      "|2126708 |London's best transport hub 5 mins walk! Safe too!|1122       |\n",
      "|1436177 |En-suite Double in Kings Cross Houseshare Eurostar|1005       |\n",
      "|47438714|KX Basic- Small Double- shared bathroom           |978        |\n",
      "|3855375 |Double in Kings Cross Houseshare nr Eurostar      |973        |\n",
      "|46233904|Superior Studio, avg size 23.5 msq                |964        |\n",
      "|2659707 |Large Room + Private Bathroom, E3.                |963        |\n",
      "|4748665 |Single bedroom near London Stratford              |917        |\n",
      "|27833488|S - Heathrow Airport Terminal 2 3 4 5 Hatton Cross|914        |\n",
      "|42081759|Micro Studio at Locke at Broken Wharf             |899        |\n",
      "|5266466 |Large London Room, Ensuite Bathroom,TV & Breakfast|885        |\n",
      "|2025844 |Family Friendly Central London Flat               |840        |\n",
      "|4332039 |Single bedroom in old East London                 |830        |\n",
      "|4461052 |Bright room with private bath by London central!  |804        |\n",
      "|107051  |JESSIE the narrowboat in Little Venice            |775        |\n",
      "+--------+--------------------------------------------------+-----------+\n",
      "only showing top 20 rows\n"
     ]
    }
   ],
   "source": [
    "# 1. Count the number of reviews per listing using the \"reviews\" dataset\n",
    "import pyspark.sql.functions as F\n",
    "\n",
    "reviews_count = reviews.groupBy(\"listing_id\") \\\n",
    "    .agg(F.count(\"id\").alias(\"num_reviews\"))\n",
    "\n",
    "listings_with_counts = listings \\\n",
    "    .join(reviews_count,\n",
    "    listings.id == reviews_count.listing_id,\n",
    "    \"left\") \\\n",
    "    .select(listings.id, listings.name, reviews_count.num_reviews) \\\n",
    "    .fillna(0)\n",
    "\n",
    "listings_with_counts.orderBy(F.desc(\"num_reviews\")).show(truncate=False)"
   ]
  },
  {
   "cell_type": "code",
   "execution_count": 18,
   "id": "5bc370f9-0375-4b2c-a8cf-7fd7437e1978",
   "metadata": {},
   "outputs": [
    {
     "name": "stdout",
     "output_type": "stream",
     "text": [
      "+---------+------------+----------------+\n",
      "|  host_id|num_listings|avg_review_score|\n",
      "+---------+------------+----------------+\n",
      "|446820235|         495|            4.54|\n",
      "|314162972|         420|            4.37|\n",
      "| 28820321|         285|            4.58|\n",
      "|  1432477|         246|             4.4|\n",
      "|156158778|         213|            4.89|\n",
      "| 33889201|         197|            4.63|\n",
      "| 47609036|         142|            4.75|\n",
      "|228928499|         132|            4.85|\n",
      "|124359784|         128|             4.4|\n",
      "| 83740964|         123|            4.42|\n",
      "|439074505|         121|            4.38|\n",
      "|185324181|         118|            4.09|\n",
      "|590452007|         116|            4.11|\n",
      "|215357262|         115|            4.51|\n",
      "| 30253178|         115|            4.48|\n",
      "| 74167394|         109|            4.09|\n",
      "| 89355192|         104|            4.65|\n",
      "|105564995|         104|            4.43|\n",
      "|575347835|          98|            NULL|\n",
      "|  9063235|          97|            4.44|\n",
      "+---------+------------+----------------+\n",
      "only showing top 20 rows\n"
     ]
    }
   ],
   "source": [
    "# 2. Compute the total number of listings and average review score per host\n",
    "listings_hosts = listings.groupBy(\"host_id\") \\\n",
    "    .agg(F.count(\"id\").alias(\"num_listings\"), \n",
    "         F.round(F.avg(\"review_scores_rating\"), 2).alias(\"avg_review_score\")) \\\n",
    "    .orderBy(F.desc(\"num_listings\"))\n",
    "\n",
    "listings_hosts.show()"
   ]
  },
  {
   "cell_type": "code",
   "execution_count": 19,
   "id": "84d9e7bd-341e-4468-881c-ef4491df08b4",
   "metadata": {},
   "outputs": [
    {
     "name": "stdout",
     "output_type": "stream",
     "text": [
      "+--------+--------------------------------------------------+-----------+\n",
      "|id      |name                                              |num_reviews|\n",
      "+--------+--------------------------------------------------+-----------+\n",
      "|47408549|Double Room+ Ensuite                              |1855       |\n",
      "|30760930|Double Garden View room - London House Hotel***   |1682       |\n",
      "|43120947|Private double room with en suite facilities      |1615       |\n",
      "|19670926|Locke Studio Apartment at Leman Locke             |1436       |\n",
      "|45006692|Budget Double Room In Colliers Hotel.             |1433       |\n",
      "|1436172 |Cosy Double in Kings Cross Houseshare nr Eurostar |1195       |\n",
      "|2126708 |London's best transport hub 5 mins walk! Safe too!|1122       |\n",
      "|1436177 |En-suite Double in Kings Cross Houseshare Eurostar|1005       |\n",
      "|47438714|KX Basic- Small Double- shared bathroom           |978        |\n",
      "|3855375 |Double in Kings Cross Houseshare nr Eurostar      |973        |\n",
      "+--------+--------------------------------------------------+-----------+\n",
      "only showing top 10 rows\n"
     ]
    }
   ],
   "source": [
    "# 3: Find the top ten listings with the highest number of reviews\n",
    "listings_with_counts.orderBy(F.desc(\"num_reviews\")).show(10, truncate=False)"
   ]
  },
  {
   "cell_type": "code",
   "execution_count": 23,
   "id": "ada1d343-15b9-4245-9801-7dd468ffd9cd",
   "metadata": {},
   "outputs": [
    {
     "name": "stdout",
     "output_type": "stream",
     "text": [
      "+----------------------+------------+\n",
      "|neighbourhood_cleansed|num_listings|\n",
      "+----------------------+------------+\n",
      "|Westminster           |11367       |\n",
      "|Tower Hamlets         |7566        |\n",
      "|Camden                |6564        |\n",
      "|Kensington and Chelsea|6348        |\n",
      "|Hackney               |6279        |\n",
      "+----------------------+------------+\n",
      "only showing top 5 rows\n"
     ]
    }
   ],
   "source": [
    "# 4. Find the top five neighborhoods with the most listings\n",
    "listings_neighborhoods = listings.groupBy(\"neighbourhood_cleansed\") \\\n",
    "    .agg(F.count(\"id\").alias(\"num_listings\")) \\\n",
    "    .dropna() \\\n",
    "    .orderBy(F.desc(\"num_listings\"))\n",
    "\n",
    "listings_neighborhoods.show(5, truncate=False)"
   ]
  },
  {
   "cell_type": "code",
   "execution_count": 26,
   "id": "a45177ab-5191-4cbf-8f07-5244d78b4f58",
   "metadata": {},
   "outputs": [
    {
     "name": "stdout",
     "output_type": "stream",
     "text": [
      "+-----+--------------------+-------------+--------------------+\n",
      "|   id|                name|reviewer_name|            comments|\n",
      "+-----+--------------------+-------------+--------------------+\n",
      "|13913|Holiday London DB...|      Michael|My girlfriend and...|\n",
      "|13913|Holiday London DB...|      Mathias|Alina was a reall...|\n",
      "|13913|Holiday London DB...|      Kristin|Alina is an amazi...|\n",
      "|13913|Holiday London DB...|      Camilla|Alina's place is ...|\n",
      "|13913|Holiday London DB...|        Jorik|Nice location in ...|\n",
      "|13913|Holiday London DB...|         Vera|I'm very happy to...|\n",
      "|13913|Holiday London DB...|         Honi|I stayed with Ali...|\n",
      "|13913|Holiday London DB...|   Alessandro|Alina was a perfe...|\n",
      "|13913|Holiday London DB...|         Oleh|Alina's flat is e...|\n",
      "|13913|Holiday London DB...|           Mo|The House is a pi...|\n",
      "|13913|Holiday London DB...|            A|Was great base fo...|\n",
      "|13913|Holiday London DB...|       Daniel|Alina was an amaz...|\n",
      "|13913|Holiday London DB...|      Belinda|Lovely relaxed pl...|\n",
      "|13913|Holiday London DB...|      Charles|Alina's place is ...|\n",
      "|13913|Holiday London DB...|       Andrew|Alina, was very q...|\n",
      "|13913|Holiday London DB...|         Bart|Alina is an amazi...|\n",
      "|13913|Holiday London DB...|         John|Alina is a very r...|\n",
      "|13913|Holiday London DB...|       Philip|Felt at home - Al...|\n",
      "|13913|Holiday London DB...|         Ania|Alina’s place is ...|\n",
      "|13913|Holiday London DB...|       Samuel|Outstanding host....|\n",
      "+-----+--------------------+-------------+--------------------+\n",
      "only showing top 20 rows\n"
     ]
    }
   ],
   "source": [
    "# 5. Get a data frame with the following four columns:\n",
    "# * Listing's ID\n",
    "# * Listing's name\n",
    "# * Reviewer's name\n",
    "# * Review's comment\n",
    "# Use \"join\" to combine data from two datasets\n",
    "\n",
    "listings_reviews = listings.join(\n",
    "    reviews, listings.id == reviews.listing_id, how='inner'\n",
    ")\n",
    "\n",
    "res_df = listings_reviews \\\n",
    "    .select(listings.id, listings.name, reviews.reviewer_name, reviews.comments)\n",
    "\n",
    "res_df.show()"
   ]
  },
  {
   "cell_type": "code",
   "execution_count": 37,
   "id": "c70008c5-cb99-4079-8309-e812449bd8d7",
   "metadata": {},
   "outputs": [
    {
     "name": "stdout",
     "output_type": "stream",
     "text": [
      "+------------------+--------------------+-----------+-----------------+\n",
      "|                id|                name|num_reviews|avg_review_length|\n",
      "+------------------+--------------------+-----------+-----------------+\n",
      "|618608352812465378|Beautiful Georgia...|          6|          1300.17|\n",
      "|          28508447|The warm and cosy...|          6|          1089.33|\n",
      "|627425975703032358|Superb loft beaut...|          9|           951.78|\n",
      "|           2197681|Luxurious apartme...|          5|            939.2|\n",
      "|          13891813|Beautiful 2 Bedro...|          5|            905.0|\n",
      "+------------------+--------------------+-----------+-----------------+\n",
      "only showing top 5 rows\n"
     ]
    }
   ],
   "source": [
    "# 6.Get top five listings with the highest average review comment length. Only return listings with at least 5 reviews\n",
    "# Use the \"length\" function from the \"pyspark.sql.functions\" to get a lenght of a review\n",
    "res_df.groupby(\"id\", \"name\") \\\n",
    "    .agg(F.count(\"comments\").alias(\"num_reviews\"), \\\n",
    "         F.round(F.avg(F.length(\"comments\")), 2).alias(\"avg_review_length\")) \\\n",
    "    .filter(F.col(\"num_reviews\") >= 5) \\\n",
    "    .orderBy(F.desc(\"avg_review_length\")) \\\n",
    "    .show(5)"
   ]
  },
  {
   "cell_type": "code",
   "execution_count": 49,
   "id": "f2d55601-9eb6-496c-b214-6ad56d2aec53",
   "metadata": {},
   "outputs": [
    {
     "name": "stdout",
     "output_type": "stream",
     "text": [
      "+--------+--------------------+-----------+\n",
      "|      id|                name|num_reviews|\n",
      "+--------+--------------------+-----------+\n",
      "|  770408|Large Cosy Apartm...|       NULL|\n",
      "|  606217|SPARE ROOM TO LET...|       NULL|\n",
      "| 4713410|Large 1 bedroom a...|       NULL|\n",
      "| 4775781|Sunny bedroom bes...|       NULL|\n",
      "| 5134081|Spacious Double R...|       NULL|\n",
      "| 5813434|Twickenham For Ru...|       NULL|\n",
      "| 5510087|Cosy Flat in Hamm...|       NULL|\n",
      "| 7080965|       Bright double|       NULL|\n",
      "| 8093650|Double room in ce...|       NULL|\n",
      "| 9000678|Airy apartment on...|       NULL|\n",
      "| 9248608|Beautifully renov...|       NULL|\n",
      "|10262172|comfortable londo...|       NULL|\n",
      "|11586308|Lovely terraced h...|       NULL|\n",
      "|11517011|Beautiful quiet a...|       NULL|\n",
      "|12693281|Peaceful flat in ...|       NULL|\n",
      "|12847415|Modern self conta...|       NULL|\n",
      "|14117333|Lovely Double Roo...|       NULL|\n",
      "|14224191|5* Luxury Huge Fa...|       NULL|\n",
      "|14726795|Large Double Room...|       NULL|\n",
      "|15373142|Private room with...|       NULL|\n",
      "+--------+--------------------+-----------+\n",
      "only showing top 20 rows\n"
     ]
    }
   ],
   "source": [
    "# 7. Using the \"join\" operator find listings without reviews.\n",
    "# Hint: Use \"left_join\" or \"left_anti\" join type when implementing this\n",
    "\n",
    "#listings.orderBy(F.asc(\"number_of_reviews\")).select(\"id\", \"number_of_reviews\").show()\n",
    "listings_without_reviews = listings \\\n",
    "    .join(reviews_count,\n",
    "    listings.id == reviews_count.listing_id,\n",
    "    \"left\") \\\n",
    "    .filter(F.col(\"num_reviews\").isNull()) \\\n",
    "    .select(listings.id, listings.name, reviews_count.num_reviews) \\\n",
    "    .show()"
   ]
  },
  {
   "cell_type": "code",
   "execution_count": null,
   "id": "888ce8f0-6e49-41ba-b521-64147316cf22",
   "metadata": {},
   "outputs": [],
   "source": []
  }
 ],
 "metadata": {
  "kernelspec": {
   "display_name": "Python 3 (ipykernel)",
   "language": "python",
   "name": "python3"
  },
  "language_info": {
   "codemirror_mode": {
    "name": "ipython",
    "version": 3
   },
   "file_extension": ".py",
   "mimetype": "text/x-python",
   "name": "python",
   "nbconvert_exporter": "python",
   "pygments_lexer": "ipython3",
   "version": "3.13.1"
  }
 },
 "nbformat": 4,
 "nbformat_minor": 5
}
