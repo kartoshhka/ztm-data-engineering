{
 "cells": [
  {
   "cell_type": "code",
   "execution_count": 1,
   "id": "aab4b687-8702-4a1f-87e9-8960a48c111e",
   "metadata": {},
   "outputs": [],
   "source": [
    "from pyspark.sql import SparkSession\n",
    "\n",
    "spark = SparkSession.builder \\\n",
    "    .appName(\"Read Inside Airbnb data\") \\\n",
    "    .getOrCreate()"
   ]
  },
  {
   "cell_type": "code",
   "execution_count": 2,
   "id": "5a20da58-e78b-475d-94d1-872668c2b3c9",
   "metadata": {},
   "outputs": [],
   "source": [
    "listings = spark.read.csv(\"../data/listings.csv.gz\", \n",
    "    header=True,\n",
    "    inferSchema=True,\n",
    "    sep=\",\", \n",
    "    quote='\"',\n",
    "    escape='\"', \n",
    "    multiLine=True,\n",
    "    mode=\"PERMISSIVE\" \n",
    ")"
   ]
  },
  {
   "cell_type": "code",
   "execution_count": 3,
   "id": "d9cd4b39-ec0b-4562-9797-8a041ea3e456",
   "metadata": {},
   "outputs": [
    {
     "name": "stdout",
     "output_type": "stream",
     "text": [
      "root\n",
      " |-- id: long (nullable = true)\n",
      " |-- listing_url: string (nullable = true)\n",
      " |-- scrape_id: long (nullable = true)\n",
      " |-- last_scraped: date (nullable = true)\n",
      " |-- source: string (nullable = true)\n",
      " |-- name: string (nullable = true)\n",
      " |-- description: string (nullable = true)\n",
      " |-- neighborhood_overview: string (nullable = true)\n",
      " |-- picture_url: string (nullable = true)\n",
      " |-- host_id: integer (nullable = true)\n",
      " |-- host_url: string (nullable = true)\n",
      " |-- host_name: string (nullable = true)\n",
      " |-- host_since: date (nullable = true)\n",
      " |-- host_location: string (nullable = true)\n",
      " |-- host_about: string (nullable = true)\n",
      " |-- host_response_time: string (nullable = true)\n",
      " |-- host_response_rate: string (nullable = true)\n",
      " |-- host_acceptance_rate: string (nullable = true)\n",
      " |-- host_is_superhost: string (nullable = true)\n",
      " |-- host_thumbnail_url: string (nullable = true)\n",
      " |-- host_picture_url: string (nullable = true)\n",
      " |-- host_neighbourhood: string (nullable = true)\n",
      " |-- host_listings_count: integer (nullable = true)\n",
      " |-- host_total_listings_count: integer (nullable = true)\n",
      " |-- host_verifications: string (nullable = true)\n",
      " |-- host_has_profile_pic: string (nullable = true)\n",
      " |-- host_identity_verified: string (nullable = true)\n",
      " |-- neighbourhood: string (nullable = true)\n",
      " |-- neighbourhood_cleansed: string (nullable = true)\n",
      " |-- neighbourhood_group_cleansed: string (nullable = true)\n",
      " |-- latitude: double (nullable = true)\n",
      " |-- longitude: double (nullable = true)\n",
      " |-- property_type: string (nullable = true)\n",
      " |-- room_type: string (nullable = true)\n",
      " |-- accommodates: integer (nullable = true)\n",
      " |-- bathrooms: double (nullable = true)\n",
      " |-- bathrooms_text: string (nullable = true)\n",
      " |-- bedrooms: integer (nullable = true)\n",
      " |-- beds: integer (nullable = true)\n",
      " |-- amenities: string (nullable = true)\n",
      " |-- price: string (nullable = true)\n",
      " |-- minimum_nights: integer (nullable = true)\n",
      " |-- maximum_nights: integer (nullable = true)\n",
      " |-- minimum_minimum_nights: integer (nullable = true)\n",
      " |-- maximum_minimum_nights: integer (nullable = true)\n",
      " |-- minimum_maximum_nights: integer (nullable = true)\n",
      " |-- maximum_maximum_nights: integer (nullable = true)\n",
      " |-- minimum_nights_avg_ntm: double (nullable = true)\n",
      " |-- maximum_nights_avg_ntm: double (nullable = true)\n",
      " |-- calendar_updated: string (nullable = true)\n",
      " |-- has_availability: string (nullable = true)\n",
      " |-- availability_30: integer (nullable = true)\n",
      " |-- availability_60: integer (nullable = true)\n",
      " |-- availability_90: integer (nullable = true)\n",
      " |-- availability_365: integer (nullable = true)\n",
      " |-- calendar_last_scraped: date (nullable = true)\n",
      " |-- number_of_reviews: integer (nullable = true)\n",
      " |-- number_of_reviews_ltm: integer (nullable = true)\n",
      " |-- number_of_reviews_l30d: integer (nullable = true)\n",
      " |-- availability_eoy: integer (nullable = true)\n",
      " |-- number_of_reviews_ly: integer (nullable = true)\n",
      " |-- estimated_occupancy_l365d: integer (nullable = true)\n",
      " |-- estimated_revenue_l365d: integer (nullable = true)\n",
      " |-- first_review: date (nullable = true)\n",
      " |-- last_review: date (nullable = true)\n",
      " |-- review_scores_rating: double (nullable = true)\n",
      " |-- review_scores_accuracy: double (nullable = true)\n",
      " |-- review_scores_cleanliness: double (nullable = true)\n",
      " |-- review_scores_checkin: double (nullable = true)\n",
      " |-- review_scores_communication: double (nullable = true)\n",
      " |-- review_scores_location: double (nullable = true)\n",
      " |-- review_scores_value: double (nullable = true)\n",
      " |-- license: string (nullable = true)\n",
      " |-- instant_bookable: string (nullable = true)\n",
      " |-- calculated_host_listings_count: integer (nullable = true)\n",
      " |-- calculated_host_listings_count_entire_homes: integer (nullable = true)\n",
      " |-- calculated_host_listings_count_private_rooms: integer (nullable = true)\n",
      " |-- calculated_host_listings_count_shared_rooms: integer (nullable = true)\n",
      " |-- reviews_per_month: double (nullable = true)\n",
      "\n"
     ]
    }
   ],
   "source": [
    "listings.printSchema()"
   ]
  },
  {
   "cell_type": "code",
   "execution_count": 6,
   "id": "85786288-3ac5-4de3-91af-b32b6f27fb8e",
   "metadata": {},
   "outputs": [
    {
     "name": "stdout",
     "output_type": "stream",
     "text": [
      "+----------------------------------------------------------------------------------------------------------+\n",
      "|picture_url                                                                                               |\n",
      "+----------------------------------------------------------------------------------------------------------+\n",
      "|https://a0.muscache.com/pictures/hosting/Hosting-264776/original/3cc7b93f-dbda-4ded-ac15-e9d96691e7ca.jpeg|\n",
      "+----------------------------------------------------------------------------------------------------------+\n",
      "only showing top 1 row\n"
     ]
    }
   ],
   "source": [
    "# 1. Get a non-null picture URL for any property (\"picture_url\" field)\n",
    "# Select any non-null picture URL\n",
    "listings \\\n",
    "    .select(listings.picture_url) \\\n",
    "    .dropna() \\\n",
    "    .show(1, truncate=False)"
   ]
  },
  {
   "cell_type": "code",
   "execution_count": 9,
   "id": "07aac6df-eb62-4813-9727-d6f13b1cf8da",
   "metadata": {},
   "outputs": [
    {
     "name": "stdout",
     "output_type": "stream",
     "text": [
      "57\n"
     ]
    }
   ],
   "source": [
    "# 2. Get number of properties that get more than 10 reviews per month\n",
    "\n",
    "#listings.schema['reviews_per_month']\n",
    "prop_more_than_10_rpm = listings \\\n",
    "    .filter(listings.reviews_per_month > 10) \\\n",
    "    .count()\n",
    "print(prop_more_than_10_rpm)\n"
   ]
  },
  {
   "cell_type": "code",
   "execution_count": 13,
   "id": "3c810e97-ad51-4233-8e7d-0bd42fe51957",
   "metadata": {},
   "outputs": [
    {
     "name": "stdout",
     "output_type": "stream",
     "text": [
      "+------+-------+--------------------+---------+--------+\n",
      "|    id|  price|                name|bathrooms|bedrooms|\n",
      "+------+-------+--------------------+---------+--------+\n",
      "|266037| $62.00|Central London wi...|      1.5|       1|\n",
      "|268398| $66.00|Also five minutes...|      1.5|       1|\n",
      "| 24328|$213.00|Battersea live/wo...|      1.5|       1|\n",
      "|432841|$104.00|Large double bedr...|      1.5|       1|\n",
      "|433867| $52.00|Bedroom In Great ...|      1.5|       1|\n",
      "|283569| $94.00|Spacious luxury 2...|      1.5|       1|\n",
      "|437722|$500.00|Very Central! Bay...|      2.0|       1|\n",
      "|442457| $40.00|Room in London wi...|      1.5|       1|\n",
      "|445346| $76.00|Stunning large ro...|      1.5|       1|\n",
      "| 56229| $78.00|Cosy Double studi...|      1.5|       1|\n",
      "|449399| $63.00|Cosy single room ...|      1.5|       1|\n",
      "| 81951|$190.00|LONDON DETACHED H...|      2.0|       1|\n",
      "| 84223| $67.00|Designer room Par...|      1.5|       1|\n",
      "| 84532| $42.00|Cosy Double room ...|      1.5|       1|\n",
      "| 85191| $75.00|Maisonette in Cen...|      1.5|       1|\n",
      "|460934| $55.00|Great Quirky Twin...|      1.5|       1|\n",
      "|460935| $55.00|Comfy Master Twin...|      1.5|       1|\n",
      "|460936| $68.00|Comfy B&B with Wi...|      1.5|       1|\n",
      "|464922| $34.00|Lovely home-excel...|      1.5|       1|\n",
      "|469187| $61.00|Double bedroom ov...|      1.5|       1|\n",
      "+------+-------+--------------------+---------+--------+\n",
      "only showing top 20 rows\n"
     ]
    }
   ],
   "source": [
    "# 3. Get properties that have more bathrooms than bedrooms\n",
    "listings \\\n",
    "    .filter(listings.bathrooms > listings.bedrooms) \\\n",
    "    .select('id', 'price', 'name', 'bathrooms', 'bedrooms') \\\n",
    "    .show()"
   ]
  },
  {
   "cell_type": "code",
   "execution_count": 19,
   "id": "f576362b-4406-4861-93bf-4525895d631a",
   "metadata": {},
   "outputs": [
    {
     "name": "stdout",
     "output_type": "stream",
     "text": [
      "Row(id=9470827, price='$8,000.00', name='Room in a cosy flat. Central, clean')\n",
      "Row(id=10475894, price='$6,308.00', name='Spacious Private Ground Floor Room')\n",
      "Row(id=13254774, price='$53,588.00', name='No Longer Available')\n",
      "Row(id=13841484, price='$74,100.00', name='Bright & airy DoubleBed with EnSuite in Zone 2!')\n",
      "Row(id=17709189, price='$7,360.00', name='Stunning home overlook canary wharf')\n",
      "Row(id=36304540, price='$7,377.00', name='The Apartments by The Sloane Club, L 2 Bedroom Apt')\n",
      "Row(id=38538876, price='$7,796.00', name='Kensington- Luxury 2 bedroom ground floor flat')\n",
      "Row(id=40518546, price='$5,034.00', name='Spacious London Flat')\n",
      "Row(id=40881056, price='$5,700.00', name='Single room. 7ft x 9ft - Over looking garden')\n",
      "Row(id=42920521, price='$5,372.00', name='Luxury modern apartment in Dulwich Village')\n",
      "Row(id=48043486, price='$6,000.00', name='Beautiful 2 BR flat in Kilburn with free parking')\n",
      "Row(id=48118935, price='$7,007.00', name='Semi-detached mews house in Knightsbridge.')\n",
      "Row(id=50766447, price='$9,999.00', name='Bright & Comfortable Angel Apartment')\n",
      "Row(id=51329213, price='$6,000.00', name='Affordable Spacious  Room on the edge of the city')\n",
      "Row(id=51334756, price='$9,000.00', name='Beautiful 3 bed refurbished apartment')\n",
      "Row(id=52112740, price='$22,824.00', name='—')\n",
      "Row(id=53585119, price='$6,500.00', name='Henry’s Townhouse, London')\n",
      "Row(id=558514003024408716, price='$50,000.00', name='SHORT WALK TO LONDON EYE - DOUBLE ROOM (SUR)')\n",
      "Row(id=613590081335010938, price='$9,033.00', name='SHORT WALK TO LONDON EYE - DOUBLE ROOM (SWI)')\n",
      "Row(id=629458680007331600, price='$6,000.00', name='The Presidential - 6 bed - stunning elegance')\n"
     ]
    }
   ],
   "source": [
    "# 4. Get properties where the price is greater than 5,000. Collect the result as a Python list\n",
    "# Remember to convert a price into a number first!\n",
    "from pyspark.sql.functions import regexp_replace\n",
    "\n",
    "price_num_df = listings \\\n",
    "  .withColumn('price_num', regexp_replace('price', '[$,]', '').cast('float')) \\\n",
    "\n",
    "list_price_greater_5000 = price_num_df \\\n",
    "    .filter(price_num_df.price_num > 5000) \\\n",
    "    .select('id', 'price', 'name') \\\n",
    "    .collect()\n",
    "print(*list_price_greater_5000[:20], sep='\\n')"
   ]
  },
  {
   "cell_type": "code",
   "execution_count": 62,
   "id": "7672f4d2-63cb-4240-80f7-140bc44798fe",
   "metadata": {},
   "outputs": [
    {
     "name": "stdout",
     "output_type": "stream",
     "text": [
      "+------+--------------------+-------+-----------------+--------------------+\n",
      "|    id|                name|  price|number_of_reviews|review_scores_rating|\n",
      "+------+--------------------+-------+-----------------+--------------------+\n",
      "|264777|One Bedroom Apart...| $98.00|               24|                4.58|\n",
      "|264779|Refurbished Two B...|$144.00|               36|                4.64|\n",
      "|266037|Central London wi...| $62.00|              532|                 4.9|\n",
      "|268398|Also five minutes...| $66.00|              563|                4.63|\n",
      "|270600|Patio Apartment i...| $73.00|               88|                4.64|\n",
      "|427348|Lovely 2 bedroom ...|$135.00|               23|                4.77|\n",
      "|427584|Hackney Stylish &...|$129.00|              152|                4.65|\n",
      "|427936|Boutique Room w/ ...| $70.00|              208|                4.98|\n",
      "| 13913|Holiday London DB...| $72.00|               54|                4.85|\n",
      "| 15400|Bright Chelsea  A...|$120.00|               97|                 4.8|\n",
      "| 36660|You are GUARANTEE...| $74.00|              717|                4.87|\n",
      "|432841|Large double bedr...|$104.00|               39|                 4.9|\n",
      "|435600|Bright Double + w...| $51.00|              246|                4.75|\n",
      "| 38995|SPACIOUS ROOM IN ...| $52.00|               71|                4.97|\n",
      "| 41712|Room with a view,...| $75.00|              133|                4.69|\n",
      "| 42010|You Will Save Mon...| $55.00|              625|                4.89|\n",
      "|283569|Spacious luxury 2...| $94.00|               25|                 4.6|\n",
      "|284423|Stylish apartment...|$112.00|               36|                4.86|\n",
      "|294887|A people person a...| $48.00|               78|                 4.9|\n",
      "| 43129|Quiet Comfortable...| $47.00|              253|                4.73|\n",
      "+------+--------------------+-------+-----------------+--------------------+\n",
      "only showing top 20 rows\n"
     ]
    }
   ],
   "source": [
    "# 5. Get a list of properties with the following characteristics:\n",
    "# * price < 150\n",
    "# * more than 20 reviews\n",
    "# * review_scores_rating > 4.5\n",
    "# Consider using the \"&\" operator\n",
    "price_num_df \\\n",
    "    .filter((price_num_df.price_num < 150) & \n",
    "            (price_num_df.number_of_reviews > 20) & \n",
    "            (price_num_df.review_scores_rating > 4.5)) \\\n",
    "    .select('id', 'name', 'price', 'number_of_reviews','review_scores_rating') \\\n",
    "    .show()"
   ]
  },
  {
   "cell_type": "code",
   "execution_count": 23,
   "id": "2db9de02-0039-4167-a7f5-ef00ecbc19e4",
   "metadata": {},
   "outputs": [
    {
     "name": "stdout",
     "output_type": "stream",
     "text": [
      "+------+--------------------+-------+---------+\n",
      "|    id|                name|  price|bathrooms|\n",
      "+------+--------------------+-------+---------+\n",
      "|264776|Huge Four Bedroom...|$297.00|      2.0|\n",
      "|264777|One Bedroom Apart...| $98.00|      1.0|\n",
      "|264778|Two Bedroom Newly...|$148.00|      1.0|\n",
      "|264779|Refurbished Two B...|$144.00|      1.0|\n",
      "|264780|Spacious refurbis...|$157.00|      2.0|\n",
      "|264781|Two Bedrooms Gard...|$148.00|      2.0|\n",
      "|264782|One Bedroom Garde...|$120.00|      1.0|\n",
      "|264783|Four Bedroom Gard...|$216.00|      2.0|\n",
      "|264789|Huge Three Bedroo...|$238.00|      2.0|\n",
      "|266037|Central London wi...| $62.00|      1.5|\n",
      "|268398|Also five minutes...| $66.00|      1.5|\n",
      "|270600|Patio Apartment i...| $73.00|      1.0|\n",
      "|426351|2 Bed Edwardian M...|$134.00|      1.0|\n",
      "|427348|Lovely 2 bedroom ...|$135.00|      2.0|\n",
      "|427584|Hackney Stylish &...|$129.00|      1.0|\n",
      "|427936|Boutique Room w/ ...| $70.00|      1.0|\n",
      "| 13913|Holiday London DB...| $72.00|      1.0|\n",
      "| 15400|Bright Chelsea  A...|$120.00|      1.0|\n",
      "| 17402|Very Central Mode...|$510.00|      2.0|\n",
      "| 24328|Battersea live/wo...|$213.00|      1.5|\n",
      "+------+--------------------+-------+---------+\n",
      "only showing top 20 rows\n"
     ]
    }
   ],
   "source": [
    "# 6. Get a list of properties with the following characteristics:\n",
    "# * price < 150 OR more than one bathroom\n",
    "# Use the \"|\" operator to implement the OR operator\n",
    "price_num_df \\\n",
    "    .filter((price_num_df.price_num < 150) | (price_num_df.bathrooms > 1)) \\\n",
    "    .select('id', 'name', 'price', 'bathrooms') \\\n",
    "    .show()"
   ]
  },
  {
   "cell_type": "code",
   "execution_count": 33,
   "id": "4dbc4ba2-53fa-45af-a2fa-c45b13256266",
   "metadata": {},
   "outputs": [
    {
     "name": "stdout",
     "output_type": "stream",
     "text": [
      "+--------------+\n",
      "|max(price_num)|\n",
      "+--------------+\n",
      "|       74100.0|\n",
      "+--------------+\n",
      "\n"
     ]
    }
   ],
   "source": [
    "# 7. Get the highest listing price in this dataset\n",
    "# Consider using the \"max\" function from \"pyspark.sql.functions\"\n",
    "from pyspark.sql.functions import max\n",
    "\n",
    "price_num_df \\\n",
    "    .select(max(price_num_df.price_num)) \\\n",
    "    .show()"
   ]
  },
  {
   "cell_type": "code",
   "execution_count": 65,
   "id": "3375451d-56c4-490a-b66d-8c3529fa718a",
   "metadata": {},
   "outputs": [
    {
     "name": "stdout",
     "output_type": "stream",
     "text": [
      "+--------------------+----------+\n",
      "|                name|     price|\n",
      "+--------------------+----------+\n",
      "|Bright & airy Dou...|$74,100.00|\n",
      "+--------------------+----------+\n",
      "\n"
     ]
    }
   ],
   "source": [
    "# 8. Get the name and a price of property with the highest price\n",
    "# Try to use \"collect\" method to get the highest price first, and then use it in a \"filter\" call \n",
    "max_value = price_num_df.agg(max(price_num_df.price_num)).collect()[0][0]\n",
    "price_num_df \\\n",
    "    .select('name', 'price') \\\n",
    "    .filter(price_num_df.price_num == max_value) \\\n",
    "    .show()\n"
   ]
  },
  {
   "cell_type": "code",
   "execution_count": 54,
   "id": "6e883a01-2305-4227-aa32-2b1e2687d928",
   "metadata": {},
   "outputs": [
    {
     "name": "stdout",
     "output_type": "stream",
     "text": [
      "55804\n"
     ]
    }
   ],
   "source": [
    "# 9. Get the number of hosts in the dataset\n",
    "num_of_hosts = listings \\\n",
    "    .select(listings.host_id) \\\n",
    "    .distinct() \\\n",
    "    .count()\n",
    "print(num_of_hosts)"
   ]
  },
  {
   "cell_type": "code",
   "execution_count": 66,
   "id": "1e4be0bf-44e6-4dde-8733-7b270a9c0e1e",
   "metadata": {},
   "outputs": [
    {
     "name": "stdout",
     "output_type": "stream",
     "text": [
      "+-------+--------------------+-------+------------+\n",
      "|     id|                name|  price|first_review|\n",
      "+-------+--------------------+-------+------------+\n",
      "|  52624|Close to Wimbledo...|   NULL|  2024-08-11|\n",
      "| 476456|Bridgerton inspir...| $91.00|  2024-09-14|\n",
      "| 228389|one Double bed ro...| $50.00|  2024-03-21|\n",
      "| 649929|Sm double room  w...|   NULL|  2024-06-04|\n",
      "|1796751|Superlux flat in ...|$540.00|  2024-01-01|\n",
      "|1573381|Central, modern p...|$189.00|  2024-11-29|\n",
      "|1286670|Stunning Bright C...|$187.00|  2024-09-21|\n",
      "|2498749|Victorian 2-bedro...|$110.00|  2024-12-09|\n",
      "|2304024|The Pink House, N...|$112.00|  2024-07-14|\n",
      "|2345520|Stylish garden fl...|$165.00|  2024-09-15|\n",
      "|2358305|Luxurious Flat in...|$190.00|  2024-06-19|\n",
      "|2435076|Double Standard R...|$112.00|  2024-09-01|\n",
      "|2436958|Single En-suite Room| $76.00|  2024-08-28|\n",
      "|2437103|Superior Single R...| $82.00|  2024-06-21|\n",
      "|2737874|Charmant appart t...|$152.00|  2024-04-28|\n",
      "|2856972|Small 1 bed apart...|$156.00|  2024-10-07|\n",
      "|3334699|Stylish & Spaciou...|$135.00|  2024-08-17|\n",
      "|2929869|Spacious Flat Gre...|   NULL|  2024-08-26|\n",
      "|4283064|2 Bed Flat in Lit...|$191.00|  2024-09-09|\n",
      "|3810989|Prime East London...|$235.00|  2024-04-22|\n",
      "+-------+--------------------+-------+------------+\n",
      "only showing top 20 rows\n"
     ]
    }
   ],
   "source": [
    "# 10. Get listings with a first review in 2024\n",
    "# Consider using the \"year\" function from \"pyspark.sql.functions\"\n",
    "from pyspark.sql.functions import year\n",
    "\n",
    "df_with_year = listings.withColumn(\"first_review_year\", year(\"first_review\"))\n",
    "df_with_year \\\n",
    "    .filter(df_with_year.first_review_year == 2024) \\\n",
    "    .select('id', 'name', 'price', 'first_review') \\\n",
    "    .show()"
   ]
  },
  {
   "cell_type": "code",
   "execution_count": null,
   "id": "7df3dd47-d0bd-4dd3-98d5-fb3533322b4c",
   "metadata": {},
   "outputs": [],
   "source": []
  }
 ],
 "metadata": {
  "kernelspec": {
   "display_name": "Python 3 (ipykernel)",
   "language": "python",
   "name": "python3"
  },
  "language_info": {
   "codemirror_mode": {
    "name": "ipython",
    "version": 3
   },
   "file_extension": ".py",
   "mimetype": "text/x-python",
   "name": "python",
   "nbconvert_exporter": "python",
   "pygments_lexer": "ipython3",
   "version": "3.13.1"
  }
 },
 "nbformat": 4,
 "nbformat_minor": 5
}
