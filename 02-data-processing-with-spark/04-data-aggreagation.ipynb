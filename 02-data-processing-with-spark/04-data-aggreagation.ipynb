{
 "cells": [
  {
   "cell_type": "code",
   "execution_count": 1,
   "id": "c219df52-cb8d-4431-831a-3751a69062f2",
   "metadata": {},
   "outputs": [],
   "source": [
    "from pyspark.sql import SparkSession\n",
    "\n",
    "spark = SparkSession.builder \\\n",
    "    .appName(\"Data Aggregation\") \\\n",
    "    .getOrCreate()"
   ]
  },
  {
   "cell_type": "code",
   "execution_count": 2,
   "id": "ec00f92d-c582-4970-9617-ff0a9852cc45",
   "metadata": {},
   "outputs": [],
   "source": [
    "listings = spark.read.csv(\"data/listings.csv.gz\", \n",
    "    header=True,\n",
    "    inferSchema=True,\n",
    "    sep=\",\",\n",
    "    quote='\"',\n",
    "    escape='\"',\n",
    "    multiLine=True,\n",
    "    mode=\"PERMISSIVE\"\n",
    ")"
   ]
  },
  {
   "cell_type": "code",
   "execution_count": 11,
   "id": "abb222f3-a971-4e41-8c89-ca50146af731",
   "metadata": {},
   "outputs": [
    {
     "name": "stdout",
     "output_type": "stream",
     "text": [
      "StructField('id', LongType(), True)\n",
      "StructField('listing_url', StringType(), True)\n",
      "StructField('scrape_id', LongType(), True)\n",
      "StructField('last_scraped', DateType(), True)\n",
      "StructField('source', StringType(), True)\n",
      "StructField('name', StringType(), True)\n",
      "StructField('description', StringType(), True)\n",
      "StructField('neighborhood_overview', StringType(), True)\n",
      "StructField('picture_url', StringType(), True)\n",
      "StructField('host_id', IntegerType(), True)\n",
      "StructField('host_url', StringType(), True)\n",
      "StructField('host_name', StringType(), True)\n",
      "StructField('host_since', DateType(), True)\n",
      "StructField('host_location', StringType(), True)\n",
      "StructField('host_about', StringType(), True)\n",
      "StructField('host_response_time', StringType(), True)\n",
      "StructField('host_response_rate', StringType(), True)\n",
      "StructField('host_acceptance_rate', StringType(), True)\n",
      "StructField('host_is_superhost', StringType(), True)\n",
      "StructField('host_thumbnail_url', StringType(), True)\n",
      "StructField('host_picture_url', StringType(), True)\n",
      "StructField('host_neighbourhood', StringType(), True)\n",
      "StructField('host_listings_count', IntegerType(), True)\n",
      "StructField('host_total_listings_count', IntegerType(), True)\n",
      "StructField('host_verifications', StringType(), True)\n",
      "StructField('host_has_profile_pic', StringType(), True)\n",
      "StructField('host_identity_verified', StringType(), True)\n",
      "StructField('neighbourhood', StringType(), True)\n",
      "StructField('neighbourhood_cleansed', StringType(), True)\n",
      "StructField('neighbourhood_group_cleansed', StringType(), True)\n",
      "StructField('latitude', DoubleType(), True)\n",
      "StructField('longitude', DoubleType(), True)\n",
      "StructField('property_type', StringType(), True)\n",
      "StructField('room_type', StringType(), True)\n",
      "StructField('accommodates', IntegerType(), True)\n",
      "StructField('bathrooms', DoubleType(), True)\n",
      "StructField('bathrooms_text', StringType(), True)\n",
      "StructField('bedrooms', IntegerType(), True)\n",
      "StructField('beds', IntegerType(), True)\n",
      "StructField('amenities', StringType(), True)\n",
      "StructField('price', StringType(), True)\n",
      "StructField('minimum_nights', IntegerType(), True)\n",
      "StructField('maximum_nights', IntegerType(), True)\n",
      "StructField('minimum_minimum_nights', IntegerType(), True)\n",
      "StructField('maximum_minimum_nights', IntegerType(), True)\n",
      "StructField('minimum_maximum_nights', IntegerType(), True)\n",
      "StructField('maximum_maximum_nights', IntegerType(), True)\n",
      "StructField('minimum_nights_avg_ntm', DoubleType(), True)\n",
      "StructField('maximum_nights_avg_ntm', DoubleType(), True)\n",
      "StructField('calendar_updated', StringType(), True)\n",
      "StructField('has_availability', StringType(), True)\n",
      "StructField('availability_30', IntegerType(), True)\n",
      "StructField('availability_60', IntegerType(), True)\n",
      "StructField('availability_90', IntegerType(), True)\n",
      "StructField('availability_365', IntegerType(), True)\n",
      "StructField('calendar_last_scraped', DateType(), True)\n",
      "StructField('number_of_reviews', IntegerType(), True)\n",
      "StructField('number_of_reviews_ltm', IntegerType(), True)\n",
      "StructField('number_of_reviews_l30d', IntegerType(), True)\n",
      "StructField('availability_eoy', IntegerType(), True)\n",
      "StructField('number_of_reviews_ly', IntegerType(), True)\n",
      "StructField('estimated_occupancy_l365d', IntegerType(), True)\n",
      "StructField('estimated_revenue_l365d', IntegerType(), True)\n",
      "StructField('first_review', DateType(), True)\n",
      "StructField('last_review', DateType(), True)\n",
      "StructField('review_scores_rating', DoubleType(), True)\n",
      "StructField('review_scores_accuracy', DoubleType(), True)\n",
      "StructField('review_scores_cleanliness', DoubleType(), True)\n",
      "StructField('review_scores_checkin', DoubleType(), True)\n",
      "StructField('review_scores_communication', DoubleType(), True)\n",
      "StructField('review_scores_location', DoubleType(), True)\n",
      "StructField('review_scores_value', DoubleType(), True)\n",
      "StructField('license', StringType(), True)\n",
      "StructField('instant_bookable', StringType(), True)\n",
      "StructField('calculated_host_listings_count', IntegerType(), True)\n",
      "StructField('calculated_host_listings_count_entire_homes', IntegerType(), True)\n",
      "StructField('calculated_host_listings_count_private_rooms', IntegerType(), True)\n",
      "StructField('calculated_host_listings_count_shared_rooms', IntegerType(), True)\n",
      "StructField('reviews_per_month', DoubleType(), True)\n"
     ]
    }
   ],
   "source": [
    "for field in listings.schema:\n",
    "    print(field)"
   ]
  },
  {
   "cell_type": "code",
   "execution_count": 3,
   "id": "f5893aaf-ca7f-4ebe-b3ae-c2a127a00f46",
   "metadata": {},
   "outputs": [
    {
     "name": "stdout",
     "output_type": "stream",
     "text": [
      "+----------------------------------+-----+\n",
      "|property_type                     |count|\n",
      "+----------------------------------+-----+\n",
      "|Private room in lighthouse        |2    |\n",
      "|Private room in loft              |154  |\n",
      "|Private room in earthen home      |2    |\n",
      "|Entire chalet                     |5    |\n",
      "|Earthen home                      |1    |\n",
      "|Farm stay                         |4    |\n",
      "|Entire rental unit                |40799|\n",
      "|Shared room in hostel             |61   |\n",
      "|Shared room                       |1    |\n",
      "|Private room in condo             |3255 |\n",
      "|Room in boutique hotel            |229  |\n",
      "|Private room in religious building|4    |\n",
      "|Room in bed and breakfast         |18   |\n",
      "|Private room in casa particular   |62   |\n",
      "|Private room in bungalow          |63   |\n",
      "|Entire cabin                      |50   |\n",
      "|Entire guesthouse                 |226  |\n",
      "|Hut                               |4    |\n",
      "|Private room in nature lodge      |4    |\n",
      "|Entire guest suite                |175  |\n",
      "+----------------------------------+-----+\n",
      "only showing top 20 rows\n"
     ]
    }
   ],
   "source": [
    "listings \\\n",
    "  .groupby(listings.property_type) \\\n",
    "  .count() \\\n",
    "  .show(truncate=False)"
   ]
  },
  {
   "cell_type": "code",
   "execution_count": 4,
   "id": "608ed71d-7a78-46df-9190-4fb49c6b62ce",
   "metadata": {},
   "outputs": [
    {
     "name": "stdout",
     "output_type": "stream",
     "text": [
      "+----------------------------------+-----+\n",
      "|property_type                     |count|\n",
      "+----------------------------------+-----+\n",
      "|Entire rental unit                |40799|\n",
      "|Private room in rental unit       |14573|\n",
      "|Private room in home              |11826|\n",
      "|Entire home                       |8938 |\n",
      "|Entire condo                      |8438 |\n",
      "|Private room in condo             |3255 |\n",
      "|Entire serviced apartment         |1840 |\n",
      "|Private room in townhouse         |1189 |\n",
      "|Entire townhouse                  |1069 |\n",
      "|Room in hotel                     |1042 |\n",
      "|Private room in bed and breakfast |495  |\n",
      "|Private room in guesthouse        |371  |\n",
      "|Entire loft                       |339  |\n",
      "|Room in boutique hotel            |229  |\n",
      "|Entire guesthouse                 |226  |\n",
      "|Entire guest suite                |175  |\n",
      "|Private room in guest suite       |170  |\n",
      "|Private room in loft              |154  |\n",
      "|Private room in serviced apartment|154  |\n",
      "|Private room                      |103  |\n",
      "+----------------------------------+-----+\n",
      "only showing top 20 rows\n"
     ]
    }
   ],
   "source": [
    "import pyspark.sql.functions as F\n",
    "\n",
    "listings \\\n",
    "  .groupby(listings.property_type) \\\n",
    "  .agg(\n",
    "    F.count('property_type').alias('count')\n",
    "  ) \\\n",
    "  .orderBy('count', ascending=[False]) \\\n",
    "  .show(truncate=False)"
   ]
  },
  {
   "cell_type": "code",
   "execution_count": 6,
   "id": "7d9abe65-741d-44cc-9e26-294e1e6e392a",
   "metadata": {},
   "outputs": [
    {
     "name": "stderr",
     "output_type": "stream",
     "text": [
      "[Stage 8:>                                                          (0 + 1) / 1]\r"
     ]
    },
    {
     "name": "stdout",
     "output_type": "stream",
     "text": [
      "+----------------------------------+-----+---------------------------+\n",
      "|property_type                     |count|avg(review_scores_location)|\n",
      "+----------------------------------+-----+---------------------------+\n",
      "|Entire rental unit                |39372|4.72794867465818           |\n",
      "|Private room in rental unit       |14837|4.732797964376552          |\n",
      "|Private room in home              |11835|4.6990531037827195         |\n",
      "|Entire condo                      |8800 |4.763906656266228          |\n",
      "|Entire home                       |8756 |4.722269211782102          |\n",
      "|Private room in condo             |3515 |4.7656638325703            |\n",
      "|Entire serviced apartment         |1852 |4.7218975332068345         |\n",
      "|Private room in townhouse         |1294 |4.75918656056587           |\n",
      "|Entire townhouse                  |1123 |4.812793814432991          |\n",
      "|Room in hotel                     |783  |4.649164619164618          |\n",
      "|Private room in bed and breakfast |486  |4.7173976608187145         |\n",
      "|Entire loft                       |367  |4.798854489164088          |\n",
      "|Private room in guesthouse        |316  |4.62233606557377           |\n",
      "|Room in boutique hotel            |239  |4.7095652173913045         |\n",
      "|Entire guesthouse                 |228  |4.703333333333332          |\n",
      "|Shared room in rental unit        |191  |4.690833333333334          |\n",
      "|Entire guest suite                |181  |4.746829268292678          |\n",
      "|Private room in guest suite       |178  |4.782962962962964          |\n",
      "|Private room in loft              |171  |4.7570802919708015         |\n",
      "|Private room in serviced apartment|144  |4.613510638297872          |\n",
      "+----------------------------------+-----+---------------------------+\n",
      "only showing top 20 rows\n",
      "\n"
     ]
    },
    {
     "name": "stderr",
     "output_type": "stream",
     "text": [
      "                                                                                \r"
     ]
    }
   ],
   "source": [
    "\n",
    "listings \\\n",
    "  .groupby(listings.property_type) \\\n",
    "  .agg(\n",
    "    F.count('property_type').alias('count'),\n",
    "    F.avg('review_scores_location')\n",
    "  ) \\\n",
    "  .orderBy('count', ascending=[False]) \\\n",
    "  .show(truncate=False)"
   ]
  },
  {
   "cell_type": "code",
   "execution_count": 5,
   "id": "0ecc6319-a9ba-41e4-8553-5b3e2e3b83a7",
   "metadata": {},
   "outputs": [],
   "source": [
    "reviews = spark.read.csv(\"data/reviews.csv.gz\", \n",
    "    header=True,\n",
    "    inferSchema=True,\n",
    "    sep=\",\",\n",
    "    quote='\"',\n",
    "    escape='\"',\n",
    "    multiLine=True,\n",
    "    mode=\"PERMISSIVE\"\n",
    ")"
   ]
  },
  {
   "cell_type": "code",
   "execution_count": 6,
   "id": "899a7d5b-1678-4924-9402-a98e16cf7010",
   "metadata": {},
   "outputs": [
    {
     "name": "stdout",
     "output_type": "stream",
     "text": [
      "StructField('listing_id', LongType(), True)\n",
      "StructField('id', LongType(), True)\n",
      "StructField('date', DateType(), True)\n",
      "StructField('reviewer_id', IntegerType(), True)\n",
      "StructField('reviewer_name', StringType(), True)\n",
      "StructField('comments', StringType(), True)\n"
     ]
    }
   ],
   "source": [
    "for field in reviews.schema:\n",
    "    print(field)"
   ]
  },
  {
   "cell_type": "code",
   "execution_count": 9,
   "id": "c358e26f-325a-4898-b837-098530ef9140",
   "metadata": {},
   "outputs": [],
   "source": [
    "listings_reviews = listings.join(\n",
    "    reviews, listings.id == reviews.listing_id, how='inner'\n",
    ")"
   ]
  },
  {
   "cell_type": "code",
   "execution_count": 12,
   "id": "18600e74-5cc6-4a90-858b-bd6ddc49b73a",
   "metadata": {},
   "outputs": [
    {
     "name": "stdout",
     "output_type": "stream",
     "text": [
      "+----------+-----------+\n",
      "|listing_id|num_reviews|\n",
      "+----------+-----------+\n",
      "|     78606|          2|\n",
      "|    444886|         12|\n",
      "|    466017|         28|\n",
      "|   2736493|          4|\n",
      "|   2557853|         89|\n",
      "|   3132302|          3|\n",
      "|   3917692|          1|\n",
      "|   3734796|          5|\n",
      "|   3997029|          7|\n",
      "|   4361078|         70|\n",
      "|   5520243|          5|\n",
      "|   5355817|         18|\n",
      "|   6311069|          3|\n",
      "|   5921026|         40|\n",
      "|   6552071|          1|\n",
      "|   6606418|        252|\n",
      "|   6651481|         48|\n",
      "|   7188835|        206|\n",
      "|   7709953|         34|\n",
      "|   7943188|         70|\n",
      "+----------+-----------+\n",
      "only showing top 20 rows\n"
     ]
    }
   ],
   "source": [
    "listings_reviews \\\n",
    "  .groupBy('id') \\\n",
    "  .agg(\n",
    "    F.count('id').alias('num_reviews')\n",
    "  ) \\\n",
    "  .show()"
   ]
  },
  {
   "cell_type": "code",
   "execution_count": 14,
   "id": "5ae431b3-c1c2-47e8-bae4-fb10f87fb5b3",
   "metadata": {},
   "outputs": [
    {
     "name": "stdout",
     "output_type": "stream",
     "text": [
      "+--------+--------------------------------------------------+-----------+\n",
      "|id      |name                                              |num_reviews|\n",
      "+--------+--------------------------------------------------+-----------+\n",
      "|47408549|Double Room+ Ensuite                              |1855       |\n",
      "|30760930|Double Garden View room - London House Hotel***   |1682       |\n",
      "|43120947|Private double room with en suite facilities      |1615       |\n",
      "|19670926|Locke Studio Apartment at Leman Locke             |1436       |\n",
      "|45006692|Budget Double Room In Colliers Hotel.             |1433       |\n",
      "|1436172 |Cosy Double in Kings Cross Houseshare nr Eurostar |1195       |\n",
      "|2126708 |London's best transport hub 5 mins walk! Safe too!|1122       |\n",
      "|1436177 |En-suite Double in Kings Cross Houseshare Eurostar|1005       |\n",
      "|47438714|KX Basic- Small Double- shared bathroom           |978        |\n",
      "|3855375 |Double in Kings Cross Houseshare nr Eurostar      |973        |\n",
      "|46233904|Superior Studio, avg size 23.5 msq                |964        |\n",
      "|2659707 |Large Room + Private Bathroom, E3.                |963        |\n",
      "|4748665 |Single bedroom near London Stratford              |917        |\n",
      "|27833488|S - Heathrow Airport Terminal 2 3 4 5 Hatton Cross|914        |\n",
      "|42081759|Micro Studio at Locke at Broken Wharf             |899        |\n",
      "|5266466 |Large London Room, Ensuite Bathroom,TV & Breakfast|885        |\n",
      "|2025844 |Family Friendly Central London Flat               |840        |\n",
      "|4332039 |Single bedroom in old East London                 |830        |\n",
      "|4461052 |Bright room with private bath by London central!  |804        |\n",
      "|107051  |JESSIE the narrowboat in Little Venice            |775        |\n",
      "+--------+--------------------------------------------------+-----------+\n",
      "only showing top 20 rows\n"
     ]
    }
   ],
   "source": [
    "reviews_per_listing = listings_reviews \\\n",
    "  .groupBy(listings.id, listings.name) \\\n",
    "  .agg(\n",
    "    F.count(reviews.id).alias('num_reviews')\n",
    "  ) \\\n",
    "  .orderBy('num_reviews', ascending=False) \\\n",
    "  .show(truncate=False)"
   ]
  },
  {
   "cell_type": "code",
   "execution_count": null,
   "id": "d025a7a9-9e02-48a3-a885-141e9c298b81",
   "metadata": {},
   "outputs": [],
   "source": []
  }
 ],
 "metadata": {
  "kernelspec": {
   "display_name": "Python 3 (ipykernel)",
   "language": "python",
   "name": "python3"
  },
  "language_info": {
   "codemirror_mode": {
    "name": "ipython",
    "version": 3
   },
   "file_extension": ".py",
   "mimetype": "text/x-python",
   "name": "python",
   "nbconvert_exporter": "python",
   "pygments_lexer": "ipython3",
   "version": "3.13.1"
  }
 },
 "nbformat": 4,
 "nbformat_minor": 5
}
